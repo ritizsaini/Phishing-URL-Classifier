{
  "nbformat": 4,
  "nbformat_minor": 0,
  "metadata": {
    "colab": {
      "name": "GNR652project.ipynb",
      "provenance": [],
      "collapsed_sections": []
    },
    "kernelspec": {
      "name": "python3",
      "display_name": "Python 3"
    }
  },
  "cells": [
    {
      "cell_type": "markdown",
      "metadata": {
        "id": "wWNoKAFzIRdb",
        "colab_type": "text"
      },
      "source": [
        "# <font color='RoyalBlue'> **GNR-652 Project: Classifying Spam & Pishing URLs Using various ML methods**\n",
        "---\n",
        "## <font color='FireBrick'> **Team members:**\n",
        "* **Ritij Saini** 17D070027\n",
        "* **Karan Chate** 17D070023\n",
        "* **Himanshu Singh** 170110076\n",
        "\n",
        "## <font color='FireBrick'> **Problem Statement:** \n",
        "To use machine learning to classify Spam/Pishing URLs using various ML methods. This would not only save precious crawl resources by allowing the crawler to bypass spam urls, but it would also remove the possibility of that spam url from later being served to user queries, thereby improving the quality of search results.\n",
        "\n",
        "## <font color='FireBrick'> **Introduction:**\n",
        "\n",
        "* Spam (harmful) websites are great\n",
        "problem nowadays, getting in\n",
        "consider the frequency of internet activities. \n",
        "* \"Spam technology\" is advancing and has\n",
        "opportunities to keep your site high\n",
        "ranks in search results\n",
        "* The motive for detection by URL is\n",
        "reducing visiting opportunities\n",
        "pages if based on a URL\n",
        "can predict that it is harmful\n",
        "\n",
        "## <font color='FireBrick'> **Types of Spams included in this project:**\n",
        "* <font color='Red'> ***Phishing***</font> - identity theft\n",
        "(personal data), most often via \n",
        "special email or chat. These days many IITB Profs are encountering this type of threats\n",
        "* <font color='Red'>***Malware***</font> - software\n",
        "which is intended to cause damage to\n",
        "computer and computer networks\n",
        "* <font color='Red'>***Defacement***</font> - change the look (content)\n",
        "existing web pages\n",
        "\n",
        "\n",
        ">**Spam in the narrow sense** - sending spam mass messages without any criteria\n",
        "\n",
        "## <font color='FireBrick'> **Brief description of the process:**\n",
        "* Processing URLs for retrieval\n",
        "significant information\n",
        "* Text data processing\n",
        "via specialized algorithms -\n",
        "CountVectorizer, Multinomial Naive\n",
        "Bayes\n",
        "* Classification using algorithms\n",
        "LinearSVM, SVM with RBF kernel,\n",
        "RandomForest \n",
        "\n",
        "## <font color='FireBrick'> **Data:** </font>\n",
        "* The data set consists of about 89,000 URLs,\n",
        "of which good (not harmful) make up about 40%\n",
        "* The dataset is obtained from the [Canadian site\n",
        "Institute for Cybersecurity](https://www.unb.ca/cic/datasets/url-2016.html)\n",
        "* <font color='RoyalBlue'>**Benign URLs:**</font>   Over 35,300 benign URLs were collected from Alexa top websites. The domains have been passed through a Heritrix web crawler to extract the URLs. \n",
        "*  <font color='RoyalBlue'>**Spam URLs:** </font> : Around 12,000 spam URLs were collected from the publicly available WEBSPAM-UK2007 dataset.\n",
        "*  <font color='RoyalBlue'>**Phishing URLs:** </font> Around 10,000 phishing URLs were taken from OpenPhish which is a repository of active phishing sites.\n",
        "*  <font color='RoyalBlue'>**Malware URLs:** </font> More than 11,500 URLs related to malware websites were obtained from DNS-BH which is a project that maintain list of malware sites.\n",
        "*  <font color='RoyalBlue'>**Defacement URLs:** </font> More than 45,450 URLs belong to Defacement URL category. They are Alexa ranked trusted websites hosting fraudulent or hidden URL that contains both malicious web pages.\n",
        "\n"
      ]
    },
    {
      "cell_type": "markdown",
      "metadata": {
        "id": "8_DyvVv3rojA",
        "colab_type": "text"
      },
      "source": [
        "Run this cell to download the dataset"
      ]
    },
    {
      "cell_type": "code",
      "metadata": {
        "id": "CG2FlHoj6qAm",
        "colab_type": "code",
        "outputId": "d31879c6-b71c-41f0-fb06-b1e4f66ae174",
        "colab": {
          "base_uri": "https://localhost:8080/",
          "height": 272
        }
      },
      "source": [
        "!wget -q --no-check-certificate 'https://docs.google.com/uc?export=download&id=1zklUuH8n8uRk4epgelDZYvCKOhtZak9v' -O dataset.zip\n",
        "!unzip dataset.zip"
      ],
      "execution_count": 0,
      "outputs": [
        {
          "output_type": "stream",
          "text": [
            "Archive:  dataset.zip\n",
            "  inflating: Benign_list_big_final.csv  \n",
            "  inflating: __MACOSX/._Benign_list_big_final.csv  \n",
            "  inflating: DefacementSitesURLFiltered.csv  \n",
            "  inflating: __MACOSX/._DefacementSitesURLFiltered.csv  \n",
            "  inflating: Malware_dataset.csv     \n",
            "  inflating: __MACOSX/._Malware_dataset.csv  \n",
            "  inflating: phishing_dataset.csv    \n",
            "  inflating: __MACOSX/._phishing_dataset.csv  \n",
            "  inflating: rf_model.txt            \n",
            "  inflating: __MACOSX/._rf_model.txt  \n",
            "  inflating: spam_dataset.csv        \n",
            "  inflating: __MACOSX/._spam_dataset.csv  \n",
            "  inflating: svm_model.txt           \n",
            "  inflating: __MACOSX/._svm_model.txt  \n"
          ],
          "name": "stdout"
        }
      ]
    },
    {
      "cell_type": "code",
      "metadata": {
        "id": "rh-s6P-sHaFU",
        "colab_type": "code",
        "outputId": "c88765d7-a8ab-4d92-c436-0713ef04c05e",
        "colab": {
          "base_uri": "https://localhost:8080/",
          "height": 71
        }
      },
      "source": [
        "import numpy as np\n",
        "import pandas as pd\n",
        "from matplotlib import pyplot as plt\n",
        "from sklearn import linear_model, model_selection, metrics, svm\n",
        "from urllib.parse import urlparse\n",
        "from sklearn.model_selection import train_test_split, GridSearchCV\n",
        "from sklearn.ensemble import RandomForestClassifier\n",
        "from sklearn.model_selection import cross_val_predict, cross_val_score\n",
        "from sklearn.metrics import confusion_matrix, classification_report, accuracy_score, roc_curve\n",
        "from sklearn.preprocessing import StandardScaler\n",
        "import seaborn as sns\n",
        "from google.colab import files\n",
        "import pickle\n",
        "np.set_printoptions(3,suppress=True)"
      ],
      "execution_count": 0,
      "outputs": [
        {
          "output_type": "stream",
          "text": [
            "/usr/local/lib/python3.6/dist-packages/statsmodels/tools/_testing.py:19: FutureWarning: pandas.util.testing is deprecated. Use the functions in the public API at pandas.testing instead.\n",
            "  import pandas.util.testing as tm\n"
          ],
          "name": "stderr"
        }
      ]
    },
    {
      "cell_type": "markdown",
      "metadata": {
        "id": "MfxoIotedmEz",
        "colab_type": "text"
      },
      "source": [
        "### Non Spam Data Set\n",
        "---\n"
      ]
    },
    {
      "cell_type": "markdown",
      "metadata": {
        "id": "IRtL1SaDdxq9",
        "colab_type": "text"
      },
      "source": [
        "Label all of them to 0"
      ]
    },
    {
      "cell_type": "code",
      "metadata": {
        "id": "LTW3hMD7IQLe",
        "colab_type": "code",
        "outputId": "4a97a1a0-54e8-417b-ea89-3cccbd519372",
        "colab": {
          "base_uri": "https://localhost:8080/",
          "height": 340
        }
      },
      "source": [
        "ds_benign= pd.read_csv('Benign_list_big_final.csv', header = None, names=['url'])\n",
        "ds_benign.info()\n",
        "ds_benign['label'] = 0\n",
        "ds_benign.head()"
      ],
      "execution_count": 0,
      "outputs": [
        {
          "output_type": "stream",
          "text": [
            "<class 'pandas.core.frame.DataFrame'>\n",
            "RangeIndex: 35378 entries, 0 to 35377\n",
            "Data columns (total 1 columns):\n",
            " #   Column  Non-Null Count  Dtype \n",
            "---  ------  --------------  ----- \n",
            " 0   url     35378 non-null  object\n",
            "dtypes: object(1)\n",
            "memory usage: 276.5+ KB\n"
          ],
          "name": "stdout"
        },
        {
          "output_type": "execute_result",
          "data": {
            "text/html": [
              "<div>\n",
              "<style scoped>\n",
              "    .dataframe tbody tr th:only-of-type {\n",
              "        vertical-align: middle;\n",
              "    }\n",
              "\n",
              "    .dataframe tbody tr th {\n",
              "        vertical-align: top;\n",
              "    }\n",
              "\n",
              "    .dataframe thead th {\n",
              "        text-align: right;\n",
              "    }\n",
              "</style>\n",
              "<table border=\"1\" class=\"dataframe\">\n",
              "  <thead>\n",
              "    <tr style=\"text-align: right;\">\n",
              "      <th></th>\n",
              "      <th>url</th>\n",
              "      <th>label</th>\n",
              "    </tr>\n",
              "  </thead>\n",
              "  <tbody>\n",
              "    <tr>\n",
              "      <th>0</th>\n",
              "      <td>http://1337x.to/torrent/1048648/American-Snipe...</td>\n",
              "      <td>0</td>\n",
              "    </tr>\n",
              "    <tr>\n",
              "      <th>1</th>\n",
              "      <td>http://1337x.to/torrent/1110018/Blackhat-2015-...</td>\n",
              "      <td>0</td>\n",
              "    </tr>\n",
              "    <tr>\n",
              "      <th>2</th>\n",
              "      <td>http://1337x.to/torrent/1122940/Blackhat-2015-...</td>\n",
              "      <td>0</td>\n",
              "    </tr>\n",
              "    <tr>\n",
              "      <th>3</th>\n",
              "      <td>http://1337x.to/torrent/1124395/Fast-and-Furio...</td>\n",
              "      <td>0</td>\n",
              "    </tr>\n",
              "    <tr>\n",
              "      <th>4</th>\n",
              "      <td>http://1337x.to/torrent/1145504/Avengers-Age-o...</td>\n",
              "      <td>0</td>\n",
              "    </tr>\n",
              "  </tbody>\n",
              "</table>\n",
              "</div>"
            ],
            "text/plain": [
              "                                                 url  label\n",
              "0  http://1337x.to/torrent/1048648/American-Snipe...      0\n",
              "1  http://1337x.to/torrent/1110018/Blackhat-2015-...      0\n",
              "2  http://1337x.to/torrent/1122940/Blackhat-2015-...      0\n",
              "3  http://1337x.to/torrent/1124395/Fast-and-Furio...      0\n",
              "4  http://1337x.to/torrent/1145504/Avengers-Age-o...      0"
            ]
          },
          "metadata": {
            "tags": []
          },
          "execution_count": 3
        }
      ]
    },
    {
      "cell_type": "markdown",
      "metadata": {
        "id": "aaGKgvZKeDS7",
        "colab_type": "text"
      },
      "source": [
        "### Spam Data Set\n",
        "---"
      ]
    },
    {
      "cell_type": "markdown",
      "metadata": {
        "id": "y7BLcmNqGj_M",
        "colab_type": "text"
      },
      "source": [
        "Label all of them to 1"
      ]
    },
    {
      "cell_type": "code",
      "metadata": {
        "id": "831oMVdLdUil",
        "colab_type": "code",
        "outputId": "537896f1-0594-479f-91a5-b5491eabf4c4",
        "colab": {
          "base_uri": "https://localhost:8080/",
          "height": 340
        }
      },
      "source": [
        "ds_spam = pd.read_csv('spam_dataset.csv', header = None, names=['url'])\n",
        "ds_spam.info()\n",
        "ds_spam['label'] = 1\n",
        "ds_spam.head()"
      ],
      "execution_count": 0,
      "outputs": [
        {
          "output_type": "stream",
          "text": [
            "<class 'pandas.core.frame.DataFrame'>\n",
            "RangeIndex: 12000 entries, 0 to 11999\n",
            "Data columns (total 1 columns):\n",
            " #   Column  Non-Null Count  Dtype \n",
            "---  ------  --------------  ----- \n",
            " 0   url     12000 non-null  object\n",
            "dtypes: object(1)\n",
            "memory usage: 93.9+ KB\n"
          ],
          "name": "stdout"
        },
        {
          "output_type": "execute_result",
          "data": {
            "text/html": [
              "<div>\n",
              "<style scoped>\n",
              "    .dataframe tbody tr th:only-of-type {\n",
              "        vertical-align: middle;\n",
              "    }\n",
              "\n",
              "    .dataframe tbody tr th {\n",
              "        vertical-align: top;\n",
              "    }\n",
              "\n",
              "    .dataframe thead th {\n",
              "        text-align: right;\n",
              "    }\n",
              "</style>\n",
              "<table border=\"1\" class=\"dataframe\">\n",
              "  <thead>\n",
              "    <tr style=\"text-align: right;\">\n",
              "      <th></th>\n",
              "      <th>url</th>\n",
              "      <th>label</th>\n",
              "    </tr>\n",
              "  </thead>\n",
              "  <tbody>\n",
              "    <tr>\n",
              "      <th>0</th>\n",
              "      <td>http://astore.amazon.co.uk/allezvinsfrenchr/de...</td>\n",
              "      <td>1</td>\n",
              "    </tr>\n",
              "    <tr>\n",
              "      <th>1</th>\n",
              "      <td>http://archive.salisburyjournal.co.uk/2007/3/6...</td>\n",
              "      <td>1</td>\n",
              "    </tr>\n",
              "    <tr>\n",
              "      <th>2</th>\n",
              "      <td>http://appbasic.jettons.co.uk/links/index.html</td>\n",
              "      <td>1</td>\n",
              "    </tr>\n",
              "    <tr>\n",
              "      <th>3</th>\n",
              "      <td>http://archive.yorkpress.co.uk/2003/11/6/25684...</td>\n",
              "      <td>1</td>\n",
              "    </tr>\n",
              "    <tr>\n",
              "      <th>4</th>\n",
              "      <td>http://acard4u.co.uk/product_reviews.php?cPath...</td>\n",
              "      <td>1</td>\n",
              "    </tr>\n",
              "  </tbody>\n",
              "</table>\n",
              "</div>"
            ],
            "text/plain": [
              "                                                 url  label\n",
              "0  http://astore.amazon.co.uk/allezvinsfrenchr/de...      1\n",
              "1  http://archive.salisburyjournal.co.uk/2007/3/6...      1\n",
              "2     http://appbasic.jettons.co.uk/links/index.html      1\n",
              "3  http://archive.yorkpress.co.uk/2003/11/6/25684...      1\n",
              "4  http://acard4u.co.uk/product_reviews.php?cPath...      1"
            ]
          },
          "metadata": {
            "tags": []
          },
          "execution_count": 4
        }
      ]
    },
    {
      "cell_type": "markdown",
      "metadata": {
        "id": "wo8iMdKrjGP8",
        "colab_type": "text"
      },
      "source": [
        "### Malware Data Set\n",
        "---"
      ]
    },
    {
      "cell_type": "markdown",
      "metadata": {
        "id": "c8FgORSyjKua",
        "colab_type": "text"
      },
      "source": [
        "label them 1 (for malware here)"
      ]
    },
    {
      "cell_type": "code",
      "metadata": {
        "id": "IKEHO2aXeAxK",
        "colab_type": "code",
        "outputId": "ab09508d-724e-4672-9d40-1041bc5d153d",
        "colab": {
          "base_uri": "https://localhost:8080/",
          "height": 340
        }
      },
      "source": [
        "ds_malware = pd.read_csv('Malware_dataset.csv', header = None, names=['url'])\n",
        "ds_malware.info()\n",
        "ds_malware['label'] = 1\n",
        "ds_malware.head()"
      ],
      "execution_count": 0,
      "outputs": [
        {
          "output_type": "stream",
          "text": [
            "<class 'pandas.core.frame.DataFrame'>\n",
            "RangeIndex: 11566 entries, 0 to 11565\n",
            "Data columns (total 1 columns):\n",
            " #   Column  Non-Null Count  Dtype \n",
            "---  ------  --------------  ----- \n",
            " 0   url     11566 non-null  object\n",
            "dtypes: object(1)\n",
            "memory usage: 90.5+ KB\n"
          ],
          "name": "stdout"
        },
        {
          "output_type": "execute_result",
          "data": {
            "text/html": [
              "<div>\n",
              "<style scoped>\n",
              "    .dataframe tbody tr th:only-of-type {\n",
              "        vertical-align: middle;\n",
              "    }\n",
              "\n",
              "    .dataframe tbody tr th {\n",
              "        vertical-align: top;\n",
              "    }\n",
              "\n",
              "    .dataframe thead th {\n",
              "        text-align: right;\n",
              "    }\n",
              "</style>\n",
              "<table border=\"1\" class=\"dataframe\">\n",
              "  <thead>\n",
              "    <tr style=\"text-align: right;\">\n",
              "      <th></th>\n",
              "      <th>url</th>\n",
              "      <th>label</th>\n",
              "    </tr>\n",
              "  </thead>\n",
              "  <tbody>\n",
              "    <tr>\n",
              "      <th>0</th>\n",
              "      <td>http://gzzax.livechatvalue.com/chat/chatClient...</td>\n",
              "      <td>1</td>\n",
              "    </tr>\n",
              "    <tr>\n",
              "      <th>1</th>\n",
              "      <td>http://gzzax.livechatvalue.com/chat/chatClient...</td>\n",
              "      <td>1</td>\n",
              "    </tr>\n",
              "    <tr>\n",
              "      <th>2</th>\n",
              "      <td>http://gzzax.livechatvalue.com/chat/chatClient...</td>\n",
              "      <td>1</td>\n",
              "    </tr>\n",
              "    <tr>\n",
              "      <th>3</th>\n",
              "      <td>http://gzzax.livechatvalue.com/chat/chatClient...</td>\n",
              "      <td>1</td>\n",
              "    </tr>\n",
              "    <tr>\n",
              "      <th>4</th>\n",
              "      <td>http://mtsx.com.cn/UploadFiles/2011-08/admin/%...</td>\n",
              "      <td>1</td>\n",
              "    </tr>\n",
              "  </tbody>\n",
              "</table>\n",
              "</div>"
            ],
            "text/plain": [
              "                                                 url  label\n",
              "0  http://gzzax.livechatvalue.com/chat/chatClient...      1\n",
              "1  http://gzzax.livechatvalue.com/chat/chatClient...      1\n",
              "2  http://gzzax.livechatvalue.com/chat/chatClient...      1\n",
              "3  http://gzzax.livechatvalue.com/chat/chatClient...      1\n",
              "4  http://mtsx.com.cn/UploadFiles/2011-08/admin/%...      1"
            ]
          },
          "metadata": {
            "tags": []
          },
          "execution_count": 5
        }
      ]
    },
    {
      "cell_type": "markdown",
      "metadata": {
        "id": "Tu2VU5l6jPjz",
        "colab_type": "text"
      },
      "source": [
        "### Pishing Mail URL Data Set\n",
        "---"
      ]
    },
    {
      "cell_type": "markdown",
      "metadata": {
        "id": "_h2L8mckjUfq",
        "colab_type": "text"
      },
      "source": [
        "label them 1 for being pishing URLs"
      ]
    },
    {
      "cell_type": "code",
      "metadata": {
        "id": "ShnTvN2jiL3L",
        "colab_type": "code",
        "outputId": "6983f7c4-b6db-4026-e37a-8cb82e07eb60",
        "colab": {
          "base_uri": "https://localhost:8080/",
          "height": 411
        }
      },
      "source": [
        "ds_phishing = pd.read_csv('phishing_dataset.csv', header = None, names = ['url'])\n",
        "ds_phishing.info()\n",
        "ds_phishing['label'] = 1\n",
        "ds_phishing.head()"
      ],
      "execution_count": 0,
      "outputs": [
        {
          "output_type": "stream",
          "text": [
            "<class 'pandas.core.frame.DataFrame'>\n",
            "RangeIndex: 9965 entries, 0 to 9964\n",
            "Data columns (total 1 columns):\n",
            " #   Column  Non-Null Count  Dtype \n",
            "---  ------  --------------  ----- \n",
            " 0   url     9965 non-null   object\n",
            "dtypes: object(1)\n",
            "memory usage: 78.0+ KB\n"
          ],
          "name": "stdout"
        },
        {
          "output_type": "execute_result",
          "data": {
            "text/html": [
              "<div>\n",
              "<style scoped>\n",
              "    .dataframe tbody tr th:only-of-type {\n",
              "        vertical-align: middle;\n",
              "    }\n",
              "\n",
              "    .dataframe tbody tr th {\n",
              "        vertical-align: top;\n",
              "    }\n",
              "\n",
              "    .dataframe thead th {\n",
              "        text-align: right;\n",
              "    }\n",
              "</style>\n",
              "<table border=\"1\" class=\"dataframe\">\n",
              "  <thead>\n",
              "    <tr style=\"text-align: right;\">\n",
              "      <th></th>\n",
              "      <th>url</th>\n",
              "      <th>label</th>\n",
              "    </tr>\n",
              "  </thead>\n",
              "  <tbody>\n",
              "    <tr>\n",
              "      <th>0</th>\n",
              "      <td>http://v2.email-marketing.adminsimple.com/trac...</td>\n",
              "      <td>1</td>\n",
              "    </tr>\n",
              "    <tr>\n",
              "      <th>1</th>\n",
              "      <td>http://bid.openx.net/json?amp;amp;amp;amp;cid;...</td>\n",
              "      <td>1</td>\n",
              "    </tr>\n",
              "    <tr>\n",
              "      <th>2</th>\n",
              "      <td>http://webmail2.centurytel.net/hwebmail/servic...</td>\n",
              "      <td>1</td>\n",
              "    </tr>\n",
              "    <tr>\n",
              "      <th>3</th>\n",
              "      <td>http://www.google.com.ng/imgres?imgurl=http://...</td>\n",
              "      <td>1</td>\n",
              "    </tr>\n",
              "    <tr>\n",
              "      <th>4</th>\n",
              "      <td>http://webmail2.centurytel.net/hwebmail/servic...</td>\n",
              "      <td>1</td>\n",
              "    </tr>\n",
              "  </tbody>\n",
              "</table>\n",
              "</div>"
            ],
            "text/plain": [
              "                                                 url  label\n",
              "0  http://v2.email-marketing.adminsimple.com/trac...      1\n",
              "1  http://bid.openx.net/json?amp;amp;amp;amp;cid;...      1\n",
              "2  http://webmail2.centurytel.net/hwebmail/servic...      1\n",
              "3  http://www.google.com.ng/imgres?imgurl=http://...      1\n",
              "4  http://webmail2.centurytel.net/hwebmail/servic...      1"
            ]
          },
          "metadata": {
            "tags": []
          },
          "execution_count": 6
        }
      ]
    },
    {
      "cell_type": "markdown",
      "metadata": {
        "id": "lwGtzqsWjaiT",
        "colab_type": "text"
      },
      "source": [
        "### Filtered defacement URLs Data Set\n",
        "---"
      ]
    },
    {
      "cell_type": "markdown",
      "metadata": {
        "id": "odea_JccjhvC",
        "colab_type": "text"
      },
      "source": [
        "again label them 1"
      ]
    },
    {
      "cell_type": "code",
      "metadata": {
        "id": "MALB2FViiRiz",
        "colab_type": "code",
        "outputId": "e0e367cd-e81f-4bb2-810b-c47fe3cfe155",
        "colab": {
          "base_uri": "https://localhost:8080/",
          "height": 340
        }
      },
      "source": [
        "ds_defacement = pd.read_csv('DefacementSitesURLFiltered.csv', header = None, names=['url'])\n",
        "ds_defacement.info()\n",
        "ds_defacement['label'] = 1\n",
        "ds_defacement.head()"
      ],
      "execution_count": 0,
      "outputs": [
        {
          "output_type": "stream",
          "text": [
            "<class 'pandas.core.frame.DataFrame'>\n",
            "RangeIndex: 96457 entries, 0 to 96456\n",
            "Data columns (total 1 columns):\n",
            " #   Column  Non-Null Count  Dtype \n",
            "---  ------  --------------  ----- \n",
            " 0   url     96457 non-null  object\n",
            "dtypes: object(1)\n",
            "memory usage: 753.7+ KB\n"
          ],
          "name": "stdout"
        },
        {
          "output_type": "execute_result",
          "data": {
            "text/html": [
              "<div>\n",
              "<style scoped>\n",
              "    .dataframe tbody tr th:only-of-type {\n",
              "        vertical-align: middle;\n",
              "    }\n",
              "\n",
              "    .dataframe tbody tr th {\n",
              "        vertical-align: top;\n",
              "    }\n",
              "\n",
              "    .dataframe thead th {\n",
              "        text-align: right;\n",
              "    }\n",
              "</style>\n",
              "<table border=\"1\" class=\"dataframe\">\n",
              "  <thead>\n",
              "    <tr style=\"text-align: right;\">\n",
              "      <th></th>\n",
              "      <th>url</th>\n",
              "      <th>label</th>\n",
              "    </tr>\n",
              "  </thead>\n",
              "  <tbody>\n",
              "    <tr>\n",
              "      <th>0</th>\n",
              "      <td>http://www.sinduscongoias.com.br/index.html</td>\n",
              "      <td>1</td>\n",
              "    </tr>\n",
              "    <tr>\n",
              "      <th>1</th>\n",
              "      <td>http://www.sinduscongoias.com.br/index.php/ins...</td>\n",
              "      <td>1</td>\n",
              "    </tr>\n",
              "    <tr>\n",
              "      <th>2</th>\n",
              "      <td>http://www.sinduscongoias.com.br/index.php/ins...</td>\n",
              "      <td>1</td>\n",
              "    </tr>\n",
              "    <tr>\n",
              "      <th>3</th>\n",
              "      <td>http://www.sinduscongoias.com.br/index.php/ins...</td>\n",
              "      <td>1</td>\n",
              "    </tr>\n",
              "    <tr>\n",
              "      <th>4</th>\n",
              "      <td>http://www.sinduscongoias.com.br/index.php/ins...</td>\n",
              "      <td>1</td>\n",
              "    </tr>\n",
              "  </tbody>\n",
              "</table>\n",
              "</div>"
            ],
            "text/plain": [
              "                                                 url  label\n",
              "0        http://www.sinduscongoias.com.br/index.html      1\n",
              "1  http://www.sinduscongoias.com.br/index.php/ins...      1\n",
              "2  http://www.sinduscongoias.com.br/index.php/ins...      1\n",
              "3  http://www.sinduscongoias.com.br/index.php/ins...      1\n",
              "4  http://www.sinduscongoias.com.br/index.php/ins...      1"
            ]
          },
          "metadata": {
            "tags": []
          },
          "execution_count": 7
        }
      ]
    },
    {
      "cell_type": "markdown",
      "metadata": {
        "id": "k0qMV55CiqAM",
        "colab_type": "text"
      },
      "source": [
        "\n",
        "shuffle the dataset to randomise data, because we will only take 40k of ~90k rows"
      ]
    },
    {
      "cell_type": "code",
      "metadata": {
        "id": "nJhwazdsimOF",
        "colab_type": "code",
        "outputId": "a4d21868-3277-44f9-a6cb-567cf1d88d96",
        "colab": {
          "base_uri": "https://localhost:8080/",
          "height": 204
        }
      },
      "source": [
        "np.random.seed(42)\n",
        "ds_defacement = ds_defacement.sample(frac=1).reset_index(drop=True)\n",
        "ds_defacement.head()"
      ],
      "execution_count": 0,
      "outputs": [
        {
          "output_type": "execute_result",
          "data": {
            "text/html": [
              "<div>\n",
              "<style scoped>\n",
              "    .dataframe tbody tr th:only-of-type {\n",
              "        vertical-align: middle;\n",
              "    }\n",
              "\n",
              "    .dataframe tbody tr th {\n",
              "        vertical-align: top;\n",
              "    }\n",
              "\n",
              "    .dataframe thead th {\n",
              "        text-align: right;\n",
              "    }\n",
              "</style>\n",
              "<table border=\"1\" class=\"dataframe\">\n",
              "  <thead>\n",
              "    <tr style=\"text-align: right;\">\n",
              "      <th></th>\n",
              "      <th>url</th>\n",
              "      <th>label</th>\n",
              "    </tr>\n",
              "  </thead>\n",
              "  <tbody>\n",
              "    <tr>\n",
              "      <th>0</th>\n",
              "      <td>http://www.ijsbaanapeldoorn.nl/fotos-videos.ht...</td>\n",
              "      <td>1</td>\n",
              "    </tr>\n",
              "    <tr>\n",
              "      <th>1</th>\n",
              "      <td>http://www.rigsolutions.nl/index.php/nl/compon...</td>\n",
              "      <td>1</td>\n",
              "    </tr>\n",
              "    <tr>\n",
              "      <th>2</th>\n",
              "      <td>http://www.userp.org.br/index.php?option=com_c...</td>\n",
              "      <td>1</td>\n",
              "    </tr>\n",
              "    <tr>\n",
              "      <th>3</th>\n",
              "      <td>http://www.feilonline.com/index.php/news-mediz...</td>\n",
              "      <td>1</td>\n",
              "    </tr>\n",
              "    <tr>\n",
              "      <th>4</th>\n",
              "      <td>http://onlineigri.net/podbrani-top-igri</td>\n",
              "      <td>1</td>\n",
              "    </tr>\n",
              "  </tbody>\n",
              "</table>\n",
              "</div>"
            ],
            "text/plain": [
              "                                                 url  label\n",
              "0  http://www.ijsbaanapeldoorn.nl/fotos-videos.ht...      1\n",
              "1  http://www.rigsolutions.nl/index.php/nl/compon...      1\n",
              "2  http://www.userp.org.br/index.php?option=com_c...      1\n",
              "3  http://www.feilonline.com/index.php/news-mediz...      1\n",
              "4            http://onlineigri.net/podbrani-top-igri      1"
            ]
          },
          "metadata": {
            "tags": []
          },
          "execution_count": 8
        }
      ]
    },
    {
      "cell_type": "code",
      "metadata": {
        "id": "WHgf5pJRj91o",
        "colab_type": "code",
        "colab": {}
      },
      "source": [
        "ds_defacement = ds_defacement[:40000]"
      ],
      "execution_count": 0,
      "outputs": []
    },
    {
      "cell_type": "markdown",
      "metadata": {
        "id": "EGn9Ev2Qj13L",
        "colab_type": "text"
      },
      "source": [
        "Now combine and shuffle the data set"
      ]
    },
    {
      "cell_type": "code",
      "metadata": {
        "id": "coYRgx0CiwOO",
        "colab_type": "code",
        "outputId": "9dd8356a-f95d-470f-f44c-b26336404bab",
        "colab": {
          "base_uri": "https://localhost:8080/",
          "height": 68
        }
      },
      "source": [
        "ds_comb = pd.concat([ds_benign,ds_spam,ds_malware,ds_phishing,ds_defacement],axis=0)\n",
        "np.random.seed(42)\n",
        "ds_comb = ds_comb.sample(frac=1).reset_index(drop=True)\n",
        "ds_comb['label'].value_counts(normalize=True)*100"
      ],
      "execution_count": 0,
      "outputs": [
        {
          "output_type": "execute_result",
          "data": {
            "text/plain": [
              "1    67.516\n",
              "0    32.484\n",
              "Name: label, dtype: float64"
            ]
          },
          "metadata": {
            "tags": []
          },
          "execution_count": 10
        }
      ]
    },
    {
      "cell_type": "markdown",
      "metadata": {
        "id": "oqq87zGumcRy",
        "colab_type": "text"
      },
      "source": [
        "### Get deep URL part from the URLs"
      ]
    },
    {
      "cell_type": "code",
      "metadata": {
        "id": "rBLblxcImDn_",
        "colab_type": "code",
        "outputId": "7d046029-822a-4276-ce3d-9c0f033163f8",
        "colab": {
          "base_uri": "https://localhost:8080/",
          "height": 204
        }
      },
      "source": [
        "def get_deep_url_from_url(url):  # This function will help in getting the final URL part\n",
        "  path = urlparse(url)\n",
        "  if path.query:\n",
        "    return str(path.path) + '?' + str(path.query)\n",
        "  else:\n",
        "    return str(path.path)\n",
        "\n",
        "ds_comb['deep url'] = ds_comb['url'].apply(lambda x : get_deep_url_from_url(x))\n",
        "ds_comb['len deep url'] = ds_comb['deep url'].apply(lambda x : len(x))\n",
        "ds_comb.head()"
      ],
      "execution_count": 0,
      "outputs": [
        {
          "output_type": "execute_result",
          "data": {
            "text/html": [
              "<div>\n",
              "<style scoped>\n",
              "    .dataframe tbody tr th:only-of-type {\n",
              "        vertical-align: middle;\n",
              "    }\n",
              "\n",
              "    .dataframe tbody tr th {\n",
              "        vertical-align: top;\n",
              "    }\n",
              "\n",
              "    .dataframe thead th {\n",
              "        text-align: right;\n",
              "    }\n",
              "</style>\n",
              "<table border=\"1\" class=\"dataframe\">\n",
              "  <thead>\n",
              "    <tr style=\"text-align: right;\">\n",
              "      <th></th>\n",
              "      <th>url</th>\n",
              "      <th>label</th>\n",
              "      <th>deep url</th>\n",
              "      <th>len deep url</th>\n",
              "    </tr>\n",
              "  </thead>\n",
              "  <tbody>\n",
              "    <tr>\n",
              "      <th>0</th>\n",
              "      <td>http://astore.amazon.co.uk/allezvinsfrenchr/de...</td>\n",
              "      <td>1</td>\n",
              "      <td>/allezvinsfrenchr/detail/006090674X/026-832424...</td>\n",
              "      <td>55</td>\n",
              "    </tr>\n",
              "    <tr>\n",
              "      <th>1</th>\n",
              "      <td>http://torcache.net/torrent/62E0C4EDCA7BF75638...</td>\n",
              "      <td>0</td>\n",
              "      <td>/torrent/62E0C4EDCA7BF7563840B4D27C03B22A23D5B...</td>\n",
              "      <td>113</td>\n",
              "    </tr>\n",
              "    <tr>\n",
              "      <th>2</th>\n",
              "      <td>http://twitter.com/home?status=%E3%83%8C%E3%81...</td>\n",
              "      <td>0</td>\n",
              "      <td>/home?status=%E3%83%8C%E3%81%91%E3%82%8B%EF%BC...</td>\n",
              "      <td>334</td>\n",
              "    </tr>\n",
              "    <tr>\n",
              "      <th>3</th>\n",
              "      <td>http://metro.co.uk/2015/01/30/today-is-the-50t...</td>\n",
              "      <td>0</td>\n",
              "      <td>/2015/01/30/today-is-the-50th-anniversary-of-t...</td>\n",
              "      <td>96</td>\n",
              "    </tr>\n",
              "    <tr>\n",
              "      <th>4</th>\n",
              "      <td>http://szgs.ru/object.php?object=ะก\\320%9F\\320...</td>\n",
              "      <td>1</td>\n",
              "      <td>/object.php?object=ะก\\320%9F\\320%91-\\320%91ะปะ...</td>\n",
              "      <td>140</td>\n",
              "    </tr>\n",
              "  </tbody>\n",
              "</table>\n",
              "</div>"
            ],
            "text/plain": [
              "                                                 url  ...  len deep url\n",
              "0  http://astore.amazon.co.uk/allezvinsfrenchr/de...  ...            55\n",
              "1  http://torcache.net/torrent/62E0C4EDCA7BF75638...  ...           113\n",
              "2  http://twitter.com/home?status=%E3%83%8C%E3%81...  ...           334\n",
              "3  http://metro.co.uk/2015/01/30/today-is-the-50t...  ...            96\n",
              "4  http://szgs.ru/object.php?object=ะก\\320%9F\\320...  ...           140\n",
              "\n",
              "[5 rows x 4 columns]"
            ]
          },
          "metadata": {
            "tags": []
          },
          "execution_count": 11
        }
      ]
    },
    {
      "cell_type": "markdown",
      "metadata": {
        "id": "K_9sVqugnDBd",
        "colab_type": "text"
      },
      "source": [
        "### We'll use the deep URL part as a feature\n",
        "* \n",
        "Deep url is parsed on words\n",
        "separated by delimiters, regex:\n",
        "‘| \\. | \\ / | \\ / \\ / |: | - | _ |% | \\? | = |; | <|> | ~ | \\ $ | & | \\ +’\n",
        "* Words are first processed using\n",
        "CountVectorizer\n",
        "* The probabilities predicted by the Multinomial Naive Bayes (MNB) will be used as\n",
        " as attributes in further processing\n",
        "data"
      ]
    },
    {
      "cell_type": "code",
      "metadata": {
        "id": "i7t1_L_Smau5",
        "colab_type": "code",
        "outputId": "983209ac-27a7-4d20-ecd1-d3d5871af133",
        "colab": {
          "base_uri": "https://localhost:8080/",
          "height": 204
        }
      },
      "source": [
        "import re\n",
        "def split_deep_url(url):\n",
        "    word_list = re.compile(r'[\\:/?=\\-&$~<>;%_\\.\\+\\\\]+',re.UNICODE).split(url)\n",
        "    word_list1 = [elem for elem in word_list if len(elem) > 2] \n",
        "    words_string = ' '.join(word_list1)\n",
        "    return str(words_string)\n",
        "\n",
        "ds_comb['deep url'] = ds_comb['deep url'].apply(lambda x : split_deep_url(x))\n",
        "ds_comb.head()"
      ],
      "execution_count": 0,
      "outputs": [
        {
          "output_type": "execute_result",
          "data": {
            "text/html": [
              "<div>\n",
              "<style scoped>\n",
              "    .dataframe tbody tr th:only-of-type {\n",
              "        vertical-align: middle;\n",
              "    }\n",
              "\n",
              "    .dataframe tbody tr th {\n",
              "        vertical-align: top;\n",
              "    }\n",
              "\n",
              "    .dataframe thead th {\n",
              "        text-align: right;\n",
              "    }\n",
              "</style>\n",
              "<table border=\"1\" class=\"dataframe\">\n",
              "  <thead>\n",
              "    <tr style=\"text-align: right;\">\n",
              "      <th></th>\n",
              "      <th>url</th>\n",
              "      <th>label</th>\n",
              "      <th>deep url</th>\n",
              "      <th>len deep url</th>\n",
              "    </tr>\n",
              "  </thead>\n",
              "  <tbody>\n",
              "    <tr>\n",
              "      <th>0</th>\n",
              "      <td>http://astore.amazon.co.uk/allezvinsfrenchr/de...</td>\n",
              "      <td>1</td>\n",
              "      <td>allezvinsfrenchr detail 006090674X 026 8324244...</td>\n",
              "      <td>55</td>\n",
              "    </tr>\n",
              "    <tr>\n",
              "      <th>1</th>\n",
              "      <td>http://torcache.net/torrent/62E0C4EDCA7BF75638...</td>\n",
              "      <td>0</td>\n",
              "      <td>torrent 62E0C4EDCA7BF7563840B4D27C03B22A23D5BF...</td>\n",
              "      <td>113</td>\n",
              "    </tr>\n",
              "    <tr>\n",
              "      <th>2</th>\n",
              "      <td>http://twitter.com/home?status=%E3%83%8C%E3%81...</td>\n",
              "      <td>0</td>\n",
              "      <td>home status http 2Fero video net 2Ft 2FMH8qKrs...</td>\n",
              "      <td>334</td>\n",
              "    </tr>\n",
              "    <tr>\n",
              "      <th>3</th>\n",
              "      <td>http://metro.co.uk/2015/01/30/today-is-the-50t...</td>\n",
              "      <td>0</td>\n",
              "      <td>2015 today the 50th anniversary the state fune...</td>\n",
              "      <td>96</td>\n",
              "    </tr>\n",
              "    <tr>\n",
              "      <th>4</th>\n",
              "      <td>http://szgs.ru/object.php?object=ะก\\320%9F\\320...</td>\n",
              "      <td>1</td>\n",
              "      <td>object php object 320 320 320 91ะปะธะฝะดะพะฝะฐ...</td>\n",
              "      <td>140</td>\n",
              "    </tr>\n",
              "  </tbody>\n",
              "</table>\n",
              "</div>"
            ],
            "text/plain": [
              "                                                 url  ...  len deep url\n",
              "0  http://astore.amazon.co.uk/allezvinsfrenchr/de...  ...            55\n",
              "1  http://torcache.net/torrent/62E0C4EDCA7BF75638...  ...           113\n",
              "2  http://twitter.com/home?status=%E3%83%8C%E3%81...  ...           334\n",
              "3  http://metro.co.uk/2015/01/30/today-is-the-50t...  ...            96\n",
              "4  http://szgs.ru/object.php?object=ะก\\320%9F\\320...  ...           140\n",
              "\n",
              "[5 rows x 4 columns]"
            ]
          },
          "metadata": {
            "tags": []
          },
          "execution_count": 12
        }
      ]
    },
    {
      "cell_type": "code",
      "metadata": {
        "id": "O4x8ru43ngNm",
        "colab_type": "code",
        "colab": {}
      },
      "source": [
        "x = ds_comb['deep url']\n",
        "y = ds_comb['label']"
      ],
      "execution_count": 0,
      "outputs": []
    },
    {
      "cell_type": "code",
      "metadata": {
        "id": "qgn6RZ3Yn0_N",
        "colab_type": "code",
        "outputId": "0a02cf2f-e608-4e2c-d5ca-e4cdafec3f2f",
        "colab": {
          "base_uri": "https://localhost:8080/",
          "height": 85
        }
      },
      "source": [
        "x_train, x_test, y_train, y_test = model_selection.train_test_split(x, y, test_size=0.33, random_state=42, stratify=y)\n",
        "print(x_train.shape)\n",
        "print(y_train.shape)\n",
        "print(x_test.shape)\n",
        "print(y_test.shape)"
      ],
      "execution_count": 0,
      "outputs": [
        {
          "output_type": "stream",
          "text": [
            "(72969,)\n",
            "(72969,)\n",
            "(35940,)\n",
            "(35940,)\n"
          ],
          "name": "stdout"
        }
      ]
    },
    {
      "cell_type": "markdown",
      "metadata": {
        "id": "J4s0MaBPf0HP",
        "colab_type": "text"
      },
      "source": [
        "Save the indices to get back our train, test sets later"
      ]
    },
    {
      "cell_type": "code",
      "metadata": {
        "id": "WC6tFyN1fbIX",
        "colab_type": "code",
        "colab": {}
      },
      "source": [
        "indices_train = x_train.index\n",
        "indices_test = x_test.index"
      ],
      "execution_count": 0,
      "outputs": []
    },
    {
      "cell_type": "markdown",
      "metadata": {
        "id": "rD_muDzVnyBL",
        "colab_type": "text"
      },
      "source": [
        "we apply CountVectorizer to have input for MultinomialDB, this will print out dictionary corresponding to each word in URLs"
      ]
    },
    {
      "cell_type": "markdown",
      "metadata": {
        "id": "Dray-dipnQJv",
        "colab_type": "text"
      },
      "source": [
        "# <font color='red'> **Method 1: Naive bayes classifier** </font>\n",
        "\n",
        "Naïve Bayes classifiers are a family of simple \"probabilistic classifiers\" based on applying Bayes' theorem with strong (naïve) independence assumptions between the features. They are among the simplest Bayesian network models.\n",
        "<table>\n",
        "<td>\n",
        "<img src=\"https://images.squarespace-cdn.com/content/v1/54e50c15e4b058fc6806d068/1453490707056-2PF9LAZEDO3GBJYWYU00/ke17ZwdGBToddI8pDm48kG7ejt4vIFQNL8gw02H4tglZw-zPPgdn4jUwVcJE1ZvWQUxwkmyExglNqGp0IvTJZamWLI2zvYWH8K3-s_4yszcp2ryTI0HqTOaaUohrI8PIL5qfmBPuCWOsBolAJrR_0bcFLhcJww53qBDxtFJXu78KMshLAGzx4R3EDFOm1kBS/image-asset.jpeg?format=1000w\" style=\"width:100;height:100px;\">\n",
        "\n",
        "</td>\n",
        "\n",
        "</table>\n",
        "\n",
        "In this part we have used Multinomial Naive Bayes. MultinomialNB implements the naive Bayes algorithm for multinomially distributed data, and is one of the two classic naive Bayes variants used in text classification (where the data are typically represented as word vector counts, although tf-idf vectors are also known to work well in practice).\n",
        "\n",
        "[Documentation](https://scikit-learn.org/stable/modules/naive_bayes.html#complement-naive-bayes) of Multinomial Naive bayes."
      ]
    },
    {
      "cell_type": "code",
      "metadata": {
        "id": "-e8SIe62n6gJ",
        "colab_type": "code",
        "colab": {}
      },
      "source": [
        "from sklearn import feature_extraction\n",
        "vectorized = feature_extraction.text.CountVectorizer()\n",
        "x_train_t = vectorized.fit_transform(x_train)\n",
        "# vectorized.vocabulary_   # contains ~75k words "
      ],
      "execution_count": 0,
      "outputs": []
    },
    {
      "cell_type": "code",
      "metadata": {
        "id": "R211sO7loAJ8",
        "colab_type": "code",
        "outputId": "b4ea3685-7133-45d8-e4b9-e20fe8cb3781",
        "colab": {
          "base_uri": "https://localhost:8080/",
          "height": 51
        }
      },
      "source": [
        "from sklearn.naive_bayes import MultinomialNB\n",
        "nb = MultinomialNB()\n",
        "nb.fit(x_train_t, y_train)\n",
        "x_test_t = vectorized.transform(x_test)\n",
        "y_train_pred = nb.predict(x_train_t)\n",
        "y_pred = nb.predict(x_test_t)\n",
        "\n",
        "print(\"Train set accuracy of NB classifier is: {:.2f} %\".format(metrics.accuracy_score(y_train, y_train_pred) * 100))\n",
        "print(\"Test set accuracy of NB classifier is: {:.2f} %\".format(metrics.accuracy_score(y_test, y_pred) * 100))"
      ],
      "execution_count": 0,
      "outputs": [
        {
          "output_type": "stream",
          "text": [
            "Train set accuracy of NB classifier is: 97.17 %\n",
            "Test set accuracy of NB classifier is: 96.17 %\n"
          ],
          "name": "stdout"
        }
      ]
    },
    {
      "cell_type": "code",
      "metadata": {
        "id": "AHqn0olRouoK",
        "colab_type": "code",
        "outputId": "1d732d80-8e83-41e3-b007-a3c021b4538b",
        "colab": {
          "base_uri": "https://localhost:8080/",
          "height": 68
        }
      },
      "source": [
        "print(\"Confusion matrix:\")\n",
        "metrics.confusion_matrix(y_test, y_pred)"
      ],
      "execution_count": 0,
      "outputs": [
        {
          "output_type": "stream",
          "text": [
            "Confusion matrix:\n"
          ],
          "name": "stdout"
        },
        {
          "output_type": "execute_result",
          "data": {
            "text/plain": [
              "array([[11044,   631],\n",
              "       [  747, 23518]])"
            ]
          },
          "metadata": {
            "tags": []
          },
          "execution_count": 18
        }
      ]
    },
    {
      "cell_type": "markdown",
      "metadata": {
        "id": "FUjhIxnhrLLz",
        "colab_type": "text"
      },
      "source": [
        "The **predicted probabilities** of our Multinomial Naive Bayes are taken over the **whole dataset** and these will be used as attributes for upcoming models"
      ]
    },
    {
      "cell_type": "code",
      "metadata": {
        "id": "Wh6dUt7Wg11j",
        "colab_type": "code",
        "colab": {}
      },
      "source": [
        "x_t = vectorized.transform(x)"
      ],
      "execution_count": 0,
      "outputs": []
    },
    {
      "cell_type": "code",
      "metadata": {
        "id": "x-FUC_gvlujt",
        "colab_type": "code",
        "outputId": "6b493526-1d04-4087-e042-d2bc4277b51d",
        "colab": {
          "base_uri": "https://localhost:8080/",
          "height": 204
        }
      },
      "source": [
        "y_pred_proba = nb.predict_proba(x_t) # x_t is vectorized transform of x, our whole set of deep urls\n",
        "pd.DataFrame(y_pred_proba, columns=['class 0 : benign', 'class 1 : spam']).head()"
      ],
      "execution_count": 0,
      "outputs": [
        {
          "output_type": "execute_result",
          "data": {
            "text/html": [
              "<div>\n",
              "<style scoped>\n",
              "    .dataframe tbody tr th:only-of-type {\n",
              "        vertical-align: middle;\n",
              "    }\n",
              "\n",
              "    .dataframe tbody tr th {\n",
              "        vertical-align: top;\n",
              "    }\n",
              "\n",
              "    .dataframe thead th {\n",
              "        text-align: right;\n",
              "    }\n",
              "</style>\n",
              "<table border=\"1\" class=\"dataframe\">\n",
              "  <thead>\n",
              "    <tr style=\"text-align: right;\">\n",
              "      <th></th>\n",
              "      <th>class 0 : benign</th>\n",
              "      <th>class 1 : spam</th>\n",
              "    </tr>\n",
              "  </thead>\n",
              "  <tbody>\n",
              "    <tr>\n",
              "      <th>0</th>\n",
              "      <td>6.242518e-11</td>\n",
              "      <td>1.000000e+00</td>\n",
              "    </tr>\n",
              "    <tr>\n",
              "      <th>1</th>\n",
              "      <td>1.000000e+00</td>\n",
              "      <td>1.926474e-22</td>\n",
              "    </tr>\n",
              "    <tr>\n",
              "      <th>2</th>\n",
              "      <td>1.000000e+00</td>\n",
              "      <td>1.236210e-16</td>\n",
              "    </tr>\n",
              "    <tr>\n",
              "      <th>3</th>\n",
              "      <td>9.999999e-01</td>\n",
              "      <td>9.700286e-08</td>\n",
              "    </tr>\n",
              "    <tr>\n",
              "      <th>4</th>\n",
              "      <td>1.498135e-20</td>\n",
              "      <td>1.000000e+00</td>\n",
              "    </tr>\n",
              "  </tbody>\n",
              "</table>\n",
              "</div>"
            ],
            "text/plain": [
              "   class 0 : benign  class 1 : spam\n",
              "0      6.242518e-11    1.000000e+00\n",
              "1      1.000000e+00    1.926474e-22\n",
              "2      1.000000e+00    1.236210e-16\n",
              "3      9.999999e-01    9.700286e-08\n",
              "4      1.498135e-20    1.000000e+00"
            ]
          },
          "metadata": {
            "tags": []
          },
          "execution_count": 20
        }
      ]
    },
    {
      "cell_type": "markdown",
      "metadata": {
        "id": "5dEdxuE7jQ_3",
        "colab_type": "text"
      },
      "source": [
        "final_ds will contain the predicted probabilities columns of our NB classifier alongwith the original dataset (including deep urls)"
      ]
    },
    {
      "cell_type": "code",
      "metadata": {
        "id": "u4Gs7uSAijyR",
        "colab_type": "code",
        "outputId": "9c9b4186-5ed5-4855-b10b-847269065f77",
        "colab": {
          "base_uri": "https://localhost:8080/",
          "height": 292
        }
      },
      "source": [
        "final_ds = ds_comb.copy()\n",
        "final_ds['label_proba_0'] = y_pred_proba[:,0]\n",
        "final_ds['label_proba_1'] = y_pred_proba[:,1]\n",
        "final_ds.head()"
      ],
      "execution_count": 0,
      "outputs": [
        {
          "output_type": "execute_result",
          "data": {
            "text/html": [
              "<div>\n",
              "<style scoped>\n",
              "    .dataframe tbody tr th:only-of-type {\n",
              "        vertical-align: middle;\n",
              "    }\n",
              "\n",
              "    .dataframe tbody tr th {\n",
              "        vertical-align: top;\n",
              "    }\n",
              "\n",
              "    .dataframe thead th {\n",
              "        text-align: right;\n",
              "    }\n",
              "</style>\n",
              "<table border=\"1\" class=\"dataframe\">\n",
              "  <thead>\n",
              "    <tr style=\"text-align: right;\">\n",
              "      <th></th>\n",
              "      <th>url</th>\n",
              "      <th>label</th>\n",
              "      <th>deep url</th>\n",
              "      <th>len deep url</th>\n",
              "      <th>label_proba_0</th>\n",
              "      <th>label_proba_1</th>\n",
              "    </tr>\n",
              "  </thead>\n",
              "  <tbody>\n",
              "    <tr>\n",
              "      <th>0</th>\n",
              "      <td>http://astore.amazon.co.uk/allezvinsfrenchr/de...</td>\n",
              "      <td>1</td>\n",
              "      <td>allezvinsfrenchr detail 006090674X 026 8324244...</td>\n",
              "      <td>55</td>\n",
              "      <td>6.242518e-11</td>\n",
              "      <td>1.000000e+00</td>\n",
              "    </tr>\n",
              "    <tr>\n",
              "      <th>1</th>\n",
              "      <td>http://torcache.net/torrent/62E0C4EDCA7BF75638...</td>\n",
              "      <td>0</td>\n",
              "      <td>torrent 62E0C4EDCA7BF7563840B4D27C03B22A23D5BF...</td>\n",
              "      <td>113</td>\n",
              "      <td>1.000000e+00</td>\n",
              "      <td>1.926474e-22</td>\n",
              "    </tr>\n",
              "    <tr>\n",
              "      <th>2</th>\n",
              "      <td>http://twitter.com/home?status=%E3%83%8C%E3%81...</td>\n",
              "      <td>0</td>\n",
              "      <td>home status http 2Fero video net 2Ft 2FMH8qKrs...</td>\n",
              "      <td>334</td>\n",
              "      <td>1.000000e+00</td>\n",
              "      <td>1.236210e-16</td>\n",
              "    </tr>\n",
              "    <tr>\n",
              "      <th>3</th>\n",
              "      <td>http://metro.co.uk/2015/01/30/today-is-the-50t...</td>\n",
              "      <td>0</td>\n",
              "      <td>2015 today the 50th anniversary the state fune...</td>\n",
              "      <td>96</td>\n",
              "      <td>9.999999e-01</td>\n",
              "      <td>9.700286e-08</td>\n",
              "    </tr>\n",
              "    <tr>\n",
              "      <th>4</th>\n",
              "      <td>http://szgs.ru/object.php?object=ะก\\320%9F\\320...</td>\n",
              "      <td>1</td>\n",
              "      <td>object php object 320 320 320 91ะปะธะฝะดะพะฝะฐ...</td>\n",
              "      <td>140</td>\n",
              "      <td>1.498135e-20</td>\n",
              "      <td>1.000000e+00</td>\n",
              "    </tr>\n",
              "  </tbody>\n",
              "</table>\n",
              "</div>"
            ],
            "text/plain": [
              "                                                 url  ...  label_proba_1\n",
              "0  http://astore.amazon.co.uk/allezvinsfrenchr/de...  ...   1.000000e+00\n",
              "1  http://torcache.net/torrent/62E0C4EDCA7BF75638...  ...   1.926474e-22\n",
              "2  http://twitter.com/home?status=%E3%83%8C%E3%81...  ...   1.236210e-16\n",
              "3  http://metro.co.uk/2015/01/30/today-is-the-50t...  ...   9.700286e-08\n",
              "4  http://szgs.ru/object.php?object=ะก\\320%9F\\320...  ...   1.000000e+00\n",
              "\n",
              "[5 rows x 6 columns]"
            ]
          },
          "metadata": {
            "tags": []
          },
          "execution_count": 21
        }
      ]
    },
    {
      "cell_type": "code",
      "metadata": {
        "id": "NPL4zUJR8Cns",
        "colab_type": "code",
        "outputId": "41b8f02a-e768-4543-9824-d01ce702fc69",
        "colab": {
          "base_uri": "https://localhost:8080/",
          "height": 34
        }
      },
      "source": [
        "!pip -q install tldextract"
      ],
      "execution_count": 0,
      "outputs": [
        {
          "output_type": "stream",
          "text": [
            "\u001b[?25l\r\u001b[K     |██████▊                         | 10kB 20.8MB/s eta 0:00:01\r\u001b[K     |█████████████▌                  | 20kB 1.7MB/s eta 0:00:01\r\u001b[K     |████████████████████▏           | 30kB 2.3MB/s eta 0:00:01\r\u001b[K     |███████████████████████████     | 40kB 2.6MB/s eta 0:00:01\r\u001b[K     |████████████████████████████████| 51kB 1.6MB/s \n",
            "\u001b[?25h"
          ],
          "name": "stdout"
        }
      ]
    },
    {
      "cell_type": "markdown",
      "metadata": {
        "id": "EoOWlh4ftvQ7",
        "colab_type": "text"
      },
      "source": [
        "\n",
        "Adding columns for domain length and suffix"
      ]
    },
    {
      "cell_type": "code",
      "metadata": {
        "id": "OihsuTU4tprm",
        "colab_type": "code",
        "colab": {}
      },
      "source": [
        "import tldextract\n",
        "def get_len_of_domain_url(url):\n",
        "  ext = tldextract.extract(url)\n",
        "  return len(ext.domain)\n",
        "    \n",
        "def get_suffix_url(url):\n",
        "  ext = tldextract.extract(url)\n",
        "  return str(ext.suffix)\n",
        "\n",
        "final_ds['len of domain'] = final_ds['url'].apply(lambda x : get_len_of_domain_url(x))\n",
        "final_ds['suffix'] = final_ds['url'].apply(lambda x : get_suffix_url(x))"
      ],
      "execution_count": 0,
      "outputs": []
    },
    {
      "cell_type": "markdown",
      "metadata": {
        "id": "C1A-f9m7lGoy",
        "colab_type": "text"
      },
      "source": [
        "**Analysis of top level domain and deep url length for good and bad urls**"
      ]
    },
    {
      "cell_type": "code",
      "metadata": {
        "id": "8KeKIPcIkomU",
        "colab_type": "code",
        "outputId": "ac613969-f2d4-49b4-cb8c-d329f4a3b229",
        "colab": {
          "base_uri": "https://localhost:8080/",
          "height": 221
        }
      },
      "source": [
        "final_ds['suffix'].value_counts()"
      ],
      "execution_count": 0,
      "outputs": [
        {
          "output_type": "execute_result",
          "data": {
            "text/plain": [
              "com         42586\n",
              "co.uk       10789\n",
              "net          7332\n",
              "de           4988\n",
              "info         4328\n",
              "            ...  \n",
              "ad              1\n",
              "edu.ec          1\n",
              "org.rs          1\n",
              "lutsk.ua        1\n",
              "vg              1\n",
              "Name: suffix, Length: 262, dtype: int64"
            ]
          },
          "metadata": {
            "tags": []
          },
          "execution_count": 24
        }
      ]
    },
    {
      "cell_type": "markdown",
      "metadata": {
        "id": "GxyiZnznuwaj",
        "colab_type": "text"
      },
      "source": [
        "suffix column (top level domain-tld in operation) has too many different values ​​and a cutoff is done for a frequency <50"
      ]
    },
    {
      "cell_type": "code",
      "metadata": {
        "id": "e64eEYUGt1OB",
        "colab_type": "code",
        "colab": {}
      },
      "source": [
        "final_ds_copy = final_ds.copy() # cutoff only done for frequency analysis, the whole set has to be taken for classification\n",
        "minFreq = 50 \n",
        "suffix_values = final_ds_copy['suffix'].value_counts() # Specific column \n",
        "to_remove = suffix_values[suffix_values <= minFreq].index\n",
        "final_ds_copy['suffix'].replace(to_remove, np.nan, inplace=True)"
      ],
      "execution_count": 0,
      "outputs": []
    },
    {
      "cell_type": "markdown",
      "metadata": {
        "id": "67eh98oFu5cx",
        "colab_type": "text"
      },
      "source": [
        "we now have the missing values ​​(nan) in the suffix column, so we throw out such rows and reset the index"
      ]
    },
    {
      "cell_type": "code",
      "metadata": {
        "id": "uq1RUOaFuz2R",
        "colab_type": "code",
        "outputId": "4992bb42-5e21-4697-807c-22e2562b2e12",
        "colab": {
          "base_uri": "https://localhost:8080/",
          "height": 221
        }
      },
      "source": [
        "final_ds_copy = final_ds_copy.dropna()\n",
        "final_ds_copy = final_ds_copy.reset_index(drop=True)\n",
        "final_ds_copy['suffix'].value_counts()"
      ],
      "execution_count": 0,
      "outputs": [
        {
          "output_type": "execute_result",
          "data": {
            "text/plain": [
              "com          42586\n",
              "co.uk        10789\n",
              "net           7332\n",
              "de            4988\n",
              "info          4328\n",
              "             ...  \n",
              "travel.pl       58\n",
              "lu              56\n",
              "com.gr          54\n",
              "co.nz           52\n",
              "org.cn          51\n",
              "Name: suffix, Length: 79, dtype: int64"
            ]
          },
          "metadata": {
            "tags": []
          },
          "execution_count": 26
        }
      ]
    },
    {
      "cell_type": "code",
      "metadata": {
        "id": "yi4G_jMBu74i",
        "colab_type": "code",
        "outputId": "ddc8cdcd-65bd-493f-f1a5-f6d5c9df7577",
        "colab": {
          "base_uri": "https://localhost:8080/",
          "height": 624
        }
      },
      "source": [
        "fig = plt.figure(figsize=(20,12))\n",
        "fig.add_subplot(1,2,1)  \n",
        "plt.title('Top level domain for good urls')\n",
        "sns.countplot(y = final_ds_copy[final_ds_copy['label']==0]['suffix'], order = final_ds_copy[final_ds_copy['label']==0]['suffix'].value_counts().index)\n",
        "fig.add_subplot(1,2,2) \n",
        "plt.title('Top level domain for harmful urls')\n",
        "sns.countplot(y = final_ds_copy[final_ds_copy['label']==1]['suffix'],order = final_ds_copy[final_ds_copy['label']==1]['suffix'].value_counts().index) \n",
        "plt.tight_layout()\n",
        "plt.show()"
      ],
      "execution_count": 0,
      "outputs": [
        {
          "output_type": "display_data",
          "data": {
            "image/png": "[encoded data removed]",
            "text/plain": [
              "<Figure size 1440x864 with 2 Axes>"
            ]
          },
          "metadata": {
            "tags": [],
            "needs_background": "light"
          }
        }
      ]
    },
    {
      "cell_type": "code",
      "metadata": {
        "id": "3jvPDEnCvMHE",
        "colab_type": "code",
        "outputId": "9bb40dce-eb8e-494b-8671-130796df1556",
        "colab": {
          "base_uri": "https://localhost:8080/",
          "height": 522
        }
      },
      "source": [
        "fig = plt.figure(figsize=(20,10))\n",
        "fig.add_subplot(1,2,1)  \n",
        "plt.title('Deep url length distribution for good urls')\n",
        "plt.hist(final_ds[final_ds['label']==0]['len deep url'], log = True, color = 'steelblue', bins=50)\n",
        "plt.ylabel(\"frequency (log scaled)\")\n",
        "plt.xlabel(\"length of deep url\")\n",
        "fig.add_subplot(1,2,2) \n",
        "plt.title('Deep url length distribution for malicious urls')\n",
        "plt.hist(final_ds[final_ds['label']==1]['len deep url'], log = True, color = 'steelblue', bins=50)\n",
        "plt.ylabel(\"frequency (log scaled)\")\n",
        "plt.xlabel(\"length of deep url\")\n",
        "plt.tight_layout()\n",
        "plt.show()"
      ],
      "execution_count": 0,
      "outputs": [
        {
          "output_type": "display_data",
          "data": {
            "image/png": "[encoded data removed]",
            "text/plain": [
              "<Figure size 1440x720 with 2 Axes>"
            ]
          },
          "metadata": {
            "tags": [],
            "needs_background": "light"
          }
        }
      ]
    },
    {
      "cell_type": "markdown",
      "metadata": {
        "id": "0CPftlMByFT_",
        "colab_type": "text"
      },
      "source": [
        "\n",
        "we throw out unnecessary columns (url, deep url) and encode the categorical variable suffix"
      ]
    },
    {
      "cell_type": "code",
      "metadata": {
        "id": "Z5vwaY-Tvfqe",
        "colab_type": "code",
        "outputId": "f520e1da-f5eb-4f96-fab5-ac721cade983",
        "colab": {
          "base_uri": "https://localhost:8080/",
          "height": 287
        }
      },
      "source": [
        "final_ds = final_ds.drop(['url', 'deep url'], axis = 1)\n",
        "final_ds = pd.get_dummies(final_ds, prefix = ['suffix'], columns = ['suffix'])\n",
        "final_ds.head()"
      ],
      "execution_count": 0,
      "outputs": [
        {
          "output_type": "execute_result",
          "data": {
            "text/html": [
              "<div>\n",
              "<style scoped>\n",
              "    .dataframe tbody tr th:only-of-type {\n",
              "        vertical-align: middle;\n",
              "    }\n",
              "\n",
              "    .dataframe tbody tr th {\n",
              "        vertical-align: top;\n",
              "    }\n",
              "\n",
              "    .dataframe thead th {\n",
              "        text-align: right;\n",
              "    }\n",
              "</style>\n",
              "<table border=\"1\" class=\"dataframe\">\n",
              "  <thead>\n",
              "    <tr style=\"text-align: right;\">\n",
              "      <th></th>\n",
              "      <th>label</th>\n",
              "      <th>len deep url</th>\n",
              "      <th>label_proba_0</th>\n",
              "      <th>label_proba_1</th>\n",
              "      <th>len of domain</th>\n",
              "      <th>suffix_</th>\n",
              "      <th>suffix_ab.ca</th>\n",
              "      <th>suffix_ac</th>\n",
              "      <th>suffix_ac.cr</th>\n",
              "      <th>suffix_ac.id</th>\n",
              "      <th>suffix_ac.in</th>\n",
              "      <th>suffix_ac.jp</th>\n",
              "      <th>suffix_ac.ke</th>\n",
              "      <th>suffix_ac.th</th>\n",
              "      <th>suffix_ac.uk</th>\n",
              "      <th>suffix_ad</th>\n",
              "      <th>suffix_adm.br</th>\n",
              "      <th>suffix_adv.br</th>\n",
              "      <th>suffix_ae</th>\n",
              "      <th>suffix_af</th>\n",
              "      <th>suffix_art.br</th>\n",
              "      <th>suffix_asia</th>\n",
              "      <th>suffix_asn.au</th>\n",
              "      <th>suffix_at</th>\n",
              "      <th>suffix_az</th>\n",
              "      <th>suffix_be</th>\n",
              "      <th>suffix_bg</th>\n",
              "      <th>suffix_biz</th>\n",
              "      <th>suffix_biz.tr</th>\n",
              "      <th>suffix_bn.it</th>\n",
              "      <th>suffix_bs.it</th>\n",
              "      <th>suffix_by</th>\n",
              "      <th>suffix_ca</th>\n",
              "      <th>suffix_cat</th>\n",
              "      <th>suffix_cc</th>\n",
              "      <th>suffix_cf</th>\n",
              "      <th>suffix_ch</th>\n",
              "      <th>suffix_cl</th>\n",
              "      <th>suffix_club</th>\n",
              "      <th>suffix_cn</th>\n",
              "      <th>...</th>\n",
              "      <th>suffix_pl</th>\n",
              "      <th>suffix_pn</th>\n",
              "      <th>suffix_pro</th>\n",
              "      <th>suffix_ps</th>\n",
              "      <th>suffix_pt</th>\n",
              "      <th>suffix_ro</th>\n",
              "      <th>suffix_rs</th>\n",
              "      <th>suffix_ru</th>\n",
              "      <th>suffix_rw</th>\n",
              "      <th>suffix_sa</th>\n",
              "      <th>suffix_se</th>\n",
              "      <th>suffix_sg</th>\n",
              "      <th>suffix_sh.cn</th>\n",
              "      <th>suffix_si</th>\n",
              "      <th>suffix_sk</th>\n",
              "      <th>suffix_so</th>\n",
              "      <th>suffix_space</th>\n",
              "      <th>suffix_su</th>\n",
              "      <th>suffix_sx</th>\n",
              "      <th>suffix_tf</th>\n",
              "      <th>suffix_tj</th>\n",
              "      <th>suffix_tk</th>\n",
              "      <th>suffix_tn</th>\n",
              "      <th>suffix_to</th>\n",
              "      <th>suffix_travel.pl</th>\n",
              "      <th>suffix_tv</th>\n",
              "      <th>suffix_ua</th>\n",
              "      <th>suffix_university</th>\n",
              "      <th>suffix_us</th>\n",
              "      <th>suffix_uz</th>\n",
              "      <th>suffix_vg</th>\n",
              "      <th>suffix_vic.edu.au</th>\n",
              "      <th>suffix_vn</th>\n",
              "      <th>suffix_vn.ua</th>\n",
              "      <th>suffix_vu</th>\n",
              "      <th>suffix_web.id</th>\n",
              "      <th>suffix_ws</th>\n",
              "      <th>suffix_xn--p1ai</th>\n",
              "      <th>suffix_xyz</th>\n",
              "      <th>suffix_zj.cn</th>\n",
              "    </tr>\n",
              "  </thead>\n",
              "  <tbody>\n",
              "    <tr>\n",
              "      <th>0</th>\n",
              "      <td>1</td>\n",
              "      <td>55</td>\n",
              "      <td>6.242518e-11</td>\n",
              "      <td>1.000000e+00</td>\n",
              "      <td>6</td>\n",
              "      <td>0</td>\n",
              "      <td>0</td>\n",
              "      <td>0</td>\n",
              "      <td>0</td>\n",
              "      <td>0</td>\n",
              "      <td>0</td>\n",
              "      <td>0</td>\n",
              "      <td>0</td>\n",
              "      <td>0</td>\n",
              "      <td>0</td>\n",
              "      <td>0</td>\n",
              "      <td>0</td>\n",
              "      <td>0</td>\n",
              "      <td>0</td>\n",
              "      <td>0</td>\n",
              "      <td>0</td>\n",
              "      <td>0</td>\n",
              "      <td>0</td>\n",
              "      <td>0</td>\n",
              "      <td>0</td>\n",
              "      <td>0</td>\n",
              "      <td>0</td>\n",
              "      <td>0</td>\n",
              "      <td>0</td>\n",
              "      <td>0</td>\n",
              "      <td>0</td>\n",
              "      <td>0</td>\n",
              "      <td>0</td>\n",
              "      <td>0</td>\n",
              "      <td>0</td>\n",
              "      <td>0</td>\n",
              "      <td>0</td>\n",
              "      <td>0</td>\n",
              "      <td>0</td>\n",
              "      <td>0</td>\n",
              "      <td>...</td>\n",
              "      <td>0</td>\n",
              "      <td>0</td>\n",
              "      <td>0</td>\n",
              "      <td>0</td>\n",
              "      <td>0</td>\n",
              "      <td>0</td>\n",
              "      <td>0</td>\n",
              "      <td>0</td>\n",
              "      <td>0</td>\n",
              "      <td>0</td>\n",
              "      <td>0</td>\n",
              "      <td>0</td>\n",
              "      <td>0</td>\n",
              "      <td>0</td>\n",
              "      <td>0</td>\n",
              "      <td>0</td>\n",
              "      <td>0</td>\n",
              "      <td>0</td>\n",
              "      <td>0</td>\n",
              "      <td>0</td>\n",
              "      <td>0</td>\n",
              "      <td>0</td>\n",
              "      <td>0</td>\n",
              "      <td>0</td>\n",
              "      <td>0</td>\n",
              "      <td>0</td>\n",
              "      <td>0</td>\n",
              "      <td>0</td>\n",
              "      <td>0</td>\n",
              "      <td>0</td>\n",
              "      <td>0</td>\n",
              "      <td>0</td>\n",
              "      <td>0</td>\n",
              "      <td>0</td>\n",
              "      <td>0</td>\n",
              "      <td>0</td>\n",
              "      <td>0</td>\n",
              "      <td>0</td>\n",
              "      <td>0</td>\n",
              "      <td>0</td>\n",
              "    </tr>\n",
              "    <tr>\n",
              "      <th>1</th>\n",
              "      <td>0</td>\n",
              "      <td>113</td>\n",
              "      <td>1.000000e+00</td>\n",
              "      <td>1.926474e-22</td>\n",
              "      <td>8</td>\n",
              "      <td>0</td>\n",
              "      <td>0</td>\n",
              "      <td>0</td>\n",
              "      <td>0</td>\n",
              "      <td>0</td>\n",
              "      <td>0</td>\n",
              "      <td>0</td>\n",
              "      <td>0</td>\n",
              "      <td>0</td>\n",
              "      <td>0</td>\n",
              "      <td>0</td>\n",
              "      <td>0</td>\n",
              "      <td>0</td>\n",
              "      <td>0</td>\n",
              "      <td>0</td>\n",
              "      <td>0</td>\n",
              "      <td>0</td>\n",
              "      <td>0</td>\n",
              "      <td>0</td>\n",
              "      <td>0</td>\n",
              "      <td>0</td>\n",
              "      <td>0</td>\n",
              "      <td>0</td>\n",
              "      <td>0</td>\n",
              "      <td>0</td>\n",
              "      <td>0</td>\n",
              "      <td>0</td>\n",
              "      <td>0</td>\n",
              "      <td>0</td>\n",
              "      <td>0</td>\n",
              "      <td>0</td>\n",
              "      <td>0</td>\n",
              "      <td>0</td>\n",
              "      <td>0</td>\n",
              "      <td>0</td>\n",
              "      <td>...</td>\n",
              "      <td>0</td>\n",
              "      <td>0</td>\n",
              "      <td>0</td>\n",
              "      <td>0</td>\n",
              "      <td>0</td>\n",
              "      <td>0</td>\n",
              "      <td>0</td>\n",
              "      <td>0</td>\n",
              "      <td>0</td>\n",
              "      <td>0</td>\n",
              "      <td>0</td>\n",
              "      <td>0</td>\n",
              "      <td>0</td>\n",
              "      <td>0</td>\n",
              "      <td>0</td>\n",
              "      <td>0</td>\n",
              "      <td>0</td>\n",
              "      <td>0</td>\n",
              "      <td>0</td>\n",
              "      <td>0</td>\n",
              "      <td>0</td>\n",
              "      <td>0</td>\n",
              "      <td>0</td>\n",
              "      <td>0</td>\n",
              "      <td>0</td>\n",
              "      <td>0</td>\n",
              "      <td>0</td>\n",
              "      <td>0</td>\n",
              "      <td>0</td>\n",
              "      <td>0</td>\n",
              "      <td>0</td>\n",
              "      <td>0</td>\n",
              "      <td>0</td>\n",
              "      <td>0</td>\n",
              "      <td>0</td>\n",
              "      <td>0</td>\n",
              "      <td>0</td>\n",
              "      <td>0</td>\n",
              "      <td>0</td>\n",
              "      <td>0</td>\n",
              "    </tr>\n",
              "    <tr>\n",
              "      <th>2</th>\n",
              "      <td>0</td>\n",
              "      <td>334</td>\n",
              "      <td>1.000000e+00</td>\n",
              "      <td>1.236210e-16</td>\n",
              "      <td>7</td>\n",
              "      <td>0</td>\n",
              "      <td>0</td>\n",
              "      <td>0</td>\n",
              "      <td>0</td>\n",
              "      <td>0</td>\n",
              "      <td>0</td>\n",
              "      <td>0</td>\n",
              "      <td>0</td>\n",
              "      <td>0</td>\n",
              "      <td>0</td>\n",
              "      <td>0</td>\n",
              "      <td>0</td>\n",
              "      <td>0</td>\n",
              "      <td>0</td>\n",
              "      <td>0</td>\n",
              "      <td>0</td>\n",
              "      <td>0</td>\n",
              "      <td>0</td>\n",
              "      <td>0</td>\n",
              "      <td>0</td>\n",
              "      <td>0</td>\n",
              "      <td>0</td>\n",
              "      <td>0</td>\n",
              "      <td>0</td>\n",
              "      <td>0</td>\n",
              "      <td>0</td>\n",
              "      <td>0</td>\n",
              "      <td>0</td>\n",
              "      <td>0</td>\n",
              "      <td>0</td>\n",
              "      <td>0</td>\n",
              "      <td>0</td>\n",
              "      <td>0</td>\n",
              "      <td>0</td>\n",
              "      <td>0</td>\n",
              "      <td>...</td>\n",
              "      <td>0</td>\n",
              "      <td>0</td>\n",
              "      <td>0</td>\n",
              "      <td>0</td>\n",
              "      <td>0</td>\n",
              "      <td>0</td>\n",
              "      <td>0</td>\n",
              "      <td>0</td>\n",
              "      <td>0</td>\n",
              "      <td>0</td>\n",
              "      <td>0</td>\n",
              "      <td>0</td>\n",
              "      <td>0</td>\n",
              "      <td>0</td>\n",
              "      <td>0</td>\n",
              "      <td>0</td>\n",
              "      <td>0</td>\n",
              "      <td>0</td>\n",
              "      <td>0</td>\n",
              "      <td>0</td>\n",
              "      <td>0</td>\n",
              "      <td>0</td>\n",
              "      <td>0</td>\n",
              "      <td>0</td>\n",
              "      <td>0</td>\n",
              "      <td>0</td>\n",
              "      <td>0</td>\n",
              "      <td>0</td>\n",
              "      <td>0</td>\n",
              "      <td>0</td>\n",
              "      <td>0</td>\n",
              "      <td>0</td>\n",
              "      <td>0</td>\n",
              "      <td>0</td>\n",
              "      <td>0</td>\n",
              "      <td>0</td>\n",
              "      <td>0</td>\n",
              "      <td>0</td>\n",
              "      <td>0</td>\n",
              "      <td>0</td>\n",
              "    </tr>\n",
              "    <tr>\n",
              "      <th>3</th>\n",
              "      <td>0</td>\n",
              "      <td>96</td>\n",
              "      <td>9.999999e-01</td>\n",
              "      <td>9.700286e-08</td>\n",
              "      <td>5</td>\n",
              "      <td>0</td>\n",
              "      <td>0</td>\n",
              "      <td>0</td>\n",
              "      <td>0</td>\n",
              "      <td>0</td>\n",
              "      <td>0</td>\n",
              "      <td>0</td>\n",
              "      <td>0</td>\n",
              "      <td>0</td>\n",
              "      <td>0</td>\n",
              "      <td>0</td>\n",
              "      <td>0</td>\n",
              "      <td>0</td>\n",
              "      <td>0</td>\n",
              "      <td>0</td>\n",
              "      <td>0</td>\n",
              "      <td>0</td>\n",
              "      <td>0</td>\n",
              "      <td>0</td>\n",
              "      <td>0</td>\n",
              "      <td>0</td>\n",
              "      <td>0</td>\n",
              "      <td>0</td>\n",
              "      <td>0</td>\n",
              "      <td>0</td>\n",
              "      <td>0</td>\n",
              "      <td>0</td>\n",
              "      <td>0</td>\n",
              "      <td>0</td>\n",
              "      <td>0</td>\n",
              "      <td>0</td>\n",
              "      <td>0</td>\n",
              "      <td>0</td>\n",
              "      <td>0</td>\n",
              "      <td>0</td>\n",
              "      <td>...</td>\n",
              "      <td>0</td>\n",
              "      <td>0</td>\n",
              "      <td>0</td>\n",
              "      <td>0</td>\n",
              "      <td>0</td>\n",
              "      <td>0</td>\n",
              "      <td>0</td>\n",
              "      <td>0</td>\n",
              "      <td>0</td>\n",
              "      <td>0</td>\n",
              "      <td>0</td>\n",
              "      <td>0</td>\n",
              "      <td>0</td>\n",
              "      <td>0</td>\n",
              "      <td>0</td>\n",
              "      <td>0</td>\n",
              "      <td>0</td>\n",
              "      <td>0</td>\n",
              "      <td>0</td>\n",
              "      <td>0</td>\n",
              "      <td>0</td>\n",
              "      <td>0</td>\n",
              "      <td>0</td>\n",
              "      <td>0</td>\n",
              "      <td>0</td>\n",
              "      <td>0</td>\n",
              "      <td>0</td>\n",
              "      <td>0</td>\n",
              "      <td>0</td>\n",
              "      <td>0</td>\n",
              "      <td>0</td>\n",
              "      <td>0</td>\n",
              "      <td>0</td>\n",
              "      <td>0</td>\n",
              "      <td>0</td>\n",
              "      <td>0</td>\n",
              "      <td>0</td>\n",
              "      <td>0</td>\n",
              "      <td>0</td>\n",
              "      <td>0</td>\n",
              "    </tr>\n",
              "    <tr>\n",
              "      <th>4</th>\n",
              "      <td>1</td>\n",
              "      <td>140</td>\n",
              "      <td>1.498135e-20</td>\n",
              "      <td>1.000000e+00</td>\n",
              "      <td>4</td>\n",
              "      <td>0</td>\n",
              "      <td>0</td>\n",
              "      <td>0</td>\n",
              "      <td>0</td>\n",
              "      <td>0</td>\n",
              "      <td>0</td>\n",
              "      <td>0</td>\n",
              "      <td>0</td>\n",
              "      <td>0</td>\n",
              "      <td>0</td>\n",
              "      <td>0</td>\n",
              "      <td>0</td>\n",
              "      <td>0</td>\n",
              "      <td>0</td>\n",
              "      <td>0</td>\n",
              "      <td>0</td>\n",
              "      <td>0</td>\n",
              "      <td>0</td>\n",
              "      <td>0</td>\n",
              "      <td>0</td>\n",
              "      <td>0</td>\n",
              "      <td>0</td>\n",
              "      <td>0</td>\n",
              "      <td>0</td>\n",
              "      <td>0</td>\n",
              "      <td>0</td>\n",
              "      <td>0</td>\n",
              "      <td>0</td>\n",
              "      <td>0</td>\n",
              "      <td>0</td>\n",
              "      <td>0</td>\n",
              "      <td>0</td>\n",
              "      <td>0</td>\n",
              "      <td>0</td>\n",
              "      <td>0</td>\n",
              "      <td>...</td>\n",
              "      <td>0</td>\n",
              "      <td>0</td>\n",
              "      <td>0</td>\n",
              "      <td>0</td>\n",
              "      <td>0</td>\n",
              "      <td>0</td>\n",
              "      <td>0</td>\n",
              "      <td>1</td>\n",
              "      <td>0</td>\n",
              "      <td>0</td>\n",
              "      <td>0</td>\n",
              "      <td>0</td>\n",
              "      <td>0</td>\n",
              "      <td>0</td>\n",
              "      <td>0</td>\n",
              "      <td>0</td>\n",
              "      <td>0</td>\n",
              "      <td>0</td>\n",
              "      <td>0</td>\n",
              "      <td>0</td>\n",
              "      <td>0</td>\n",
              "      <td>0</td>\n",
              "      <td>0</td>\n",
              "      <td>0</td>\n",
              "      <td>0</td>\n",
              "      <td>0</td>\n",
              "      <td>0</td>\n",
              "      <td>0</td>\n",
              "      <td>0</td>\n",
              "      <td>0</td>\n",
              "      <td>0</td>\n",
              "      <td>0</td>\n",
              "      <td>0</td>\n",
              "      <td>0</td>\n",
              "      <td>0</td>\n",
              "      <td>0</td>\n",
              "      <td>0</td>\n",
              "      <td>0</td>\n",
              "      <td>0</td>\n",
              "      <td>0</td>\n",
              "    </tr>\n",
              "  </tbody>\n",
              "</table>\n",
              "<p>5 rows × 267 columns</p>\n",
              "</div>"
            ],
            "text/plain": [
              "   label  len deep url  ...  suffix_xyz  suffix_zj.cn\n",
              "0      1            55  ...           0             0\n",
              "1      0           113  ...           0             0\n",
              "2      0           334  ...           0             0\n",
              "3      0            96  ...           0             0\n",
              "4      1           140  ...           0             0\n",
              "\n",
              "[5 rows x 267 columns]"
            ]
          },
          "metadata": {
            "tags": []
          },
          "execution_count": 29
        }
      ]
    },
    {
      "cell_type": "code",
      "metadata": {
        "id": "VJuZeMd6p573",
        "colab_type": "code",
        "colab": {}
      },
      "source": [
        "df_train = final_ds.loc[indices_train,:]\n",
        "df_test = final_ds.loc[indices_test,:]\n",
        "\n",
        "X_train_valid = df_train.drop(['label'], axis=1)\n",
        "y_train_valid = df_train['label']\n",
        "X_train, X_valid, y_train, y_valid = train_test_split(X_train_valid, y_train_valid, test_size=0.20, random_state=42, stratify = y_train_valid)\n",
        "# 20% of train set is taken for validation\n",
        "X_test = df_test.drop(['label'], axis=1)\n",
        "y_test = df_test['label']"
      ],
      "execution_count": 0,
      "outputs": []
    },
    {
      "cell_type": "markdown",
      "metadata": {
        "id": "yWscjJaSU8OQ",
        "colab_type": "text"
      },
      "source": [
        "Standardise all columns except one-hot encoded ones"
      ]
    },
    {
      "cell_type": "code",
      "metadata": {
        "id": "63o9tQ0gyhB-",
        "colab_type": "code",
        "outputId": "c879424b-09e0-46af-d39c-dcd48af73611",
        "colab": {
          "base_uri": "https://localhost:8080/",
          "height": 241
        }
      },
      "source": [
        "# train set statistics applied to validation set\n",
        "ss1 = StandardScaler()\n",
        "X_train.iloc[:,:4] = ss1.fit_transform(X_train.iloc[:,:4])\n",
        "X_valid.iloc[:,:4] = ss1.transform(X_valid.iloc[:,:4])\n",
        "\n",
        "# whole training set statistics (includes validation set) applied to test set\n",
        "ss2 = StandardScaler()\n",
        "X_train_valid.iloc[:,:4] = ss2.fit_transform(X_train_valid.iloc[:,:4])\n",
        "X_test.iloc[:,:4] = ss2.transform(X_test.iloc[:,:4])"
      ],
      "execution_count": 0,
      "outputs": [
        {
          "output_type": "stream",
          "text": [
            "/usr/local/lib/python3.6/dist-packages/pandas/core/indexing.py:966: SettingWithCopyWarning: \n",
            "A value is trying to be set on a copy of a slice from a DataFrame.\n",
            "Try using .loc[row_indexer,col_indexer] = value instead\n",
            "\n",
            "See the caveats in the documentation: https://pandas.pydata.org/pandas-docs/stable/user_guide/indexing.html#returning-a-view-versus-a-copy\n",
            "  self.obj[item] = s\n",
            "/usr/local/lib/python3.6/dist-packages/pandas/core/indexing.py:966: SettingWithCopyWarning: \n",
            "A value is trying to be set on a copy of a slice from a DataFrame.\n",
            "Try using .loc[row_indexer,col_indexer] = value instead\n",
            "\n",
            "See the caveats in the documentation: https://pandas.pydata.org/pandas-docs/stable/user_guide/indexing.html#returning-a-view-versus-a-copy\n",
            "  self.obj[item] = s\n"
          ],
          "name": "stderr"
        }
      ]
    },
    {
      "cell_type": "markdown",
      "metadata": {
        "id": "m87me0EoU-A-",
        "colab_type": "text"
      },
      "source": [
        "# <font color='red'> **Method 2: Random Forest** "
      ]
    },
    {
      "cell_type": "code",
      "metadata": {
        "id": "DgvI84e2WRL4",
        "colab_type": "code",
        "colab": {}
      },
      "source": [
        "def get_best_model_rf(X_train, y_train, X_valid, y_valid):\n",
        "  np.random.seed(42)\n",
        "  n_estimators = np.random.randint(50, high=100, size=(5,))\n",
        "  max_depths = np.random.randint(50, high=75, size=(5,))\n",
        "  best_score = 0 \n",
        "  best_estimator, best_params = None, []\n",
        "  for n in n_estimators: \n",
        "      for max_d in max_depths:\n",
        "        rf = RandomForestClassifier(n_estimators = n, max_depth = max_d)\n",
        "        rf.fit(X_train, y_train)\n",
        "        y_pred = rf.predict(X_valid)\n",
        "        score = metrics.accuracy_score(y_valid, y_pred)\n",
        "        if score>best_score: \n",
        "            best_score = score\n",
        "            best_estimator = rf\n",
        "            best_params = [n,max_d]\n",
        "  return best_estimator, best_params, best_score"
      ],
      "execution_count": 0,
      "outputs": []
    },
    {
      "cell_type": "code",
      "metadata": {
        "id": "RvqN4RoYvWEL",
        "colab_type": "code",
        "colab": {}
      },
      "source": [
        "# best_rf, best_params_rf, best_score_rf = get_best_model_rf(X_train, y_train, X_valid, y_valid)"
      ],
      "execution_count": 0,
      "outputs": []
    },
    {
      "cell_type": "code",
      "metadata": {
        "id": "Pc335C0au8_u",
        "colab_type": "code",
        "colab": {}
      },
      "source": [
        "# # this cell pickles our generated model\n",
        "# rf_model = {'best_rf':best_rf,'best_params_rf':best_params_rf,'best_score_rf':best_score_rf}\n",
        "# f = open('rf_model.txt','wb')\n",
        "# pickle.dump(rf_model,f)\n",
        "# f.close()"
      ],
      "execution_count": 0,
      "outputs": []
    },
    {
      "cell_type": "code",
      "metadata": {
        "id": "3N0Qz6zdvo2h",
        "colab_type": "code",
        "colab": {}
      },
      "source": [
        "# this cell loads our pickled model\n",
        "f = open('rf_model.txt','rb')\n",
        "rf_model = pickle.load(f)\n",
        "best_rf = rf_model['best_rf']\n",
        "best_params_rf = rf_model['best_params_rf']\n",
        "best_score_rf = rf_model['best_score_rf']\n",
        "f.close()"
      ],
      "execution_count": 0,
      "outputs": []
    },
    {
      "cell_type": "code",
      "metadata": {
        "id": "SSPWnE4fYswO",
        "colab_type": "code",
        "outputId": "a61ca4fc-e101-4cf3-cc57-7ba20460e9dc",
        "colab": {
          "base_uri": "https://localhost:8080/",
          "height": 476
        }
      },
      "source": [
        "print(f\"Best parameters:\\n\\tn_estimators: {best_params_rf[0]}\\n\\tmax_depth: {best_params_rf[1]}\")\n",
        "print(f\"\\nBest validation accuracy: {best_score_rf*100} %\\n\")\n",
        "best_rf.fit(X_train_valid, y_train_valid)\n",
        "\n",
        "y_train_valid_pred = best_rf.predict(X_train_valid)\n",
        "y_test_pred = best_rf.predict(X_test)\n",
        "print(f'Test set accuracy: {metrics.accuracy_score(y_test, y_test_pred)*100} %')\n",
        "print('Train set report:\\n {}'.format(metrics.classification_report(y_train_valid, y_train_valid_pred)))\n",
        "print('Test set report:\\n {}'.format(metrics.classification_report(y_test, y_test_pred)))"
      ],
      "execution_count": 0,
      "outputs": [
        {
          "output_type": "stream",
          "text": [
            "Best parameters:\n",
            "\tn_estimators: 78\n",
            "\tmax_depth: 60\n",
            "\n",
            "Best validation accuracy: 99.71906262847746 %\n",
            "\n",
            "Test set accuracy: 99.29326655537007 %\n",
            "Train set report:\n",
            "               precision    recall  f1-score   support\n",
            "\n",
            "           0       1.00      1.00      1.00     23703\n",
            "           1       1.00      1.00      1.00     49266\n",
            "\n",
            "    accuracy                           1.00     72969\n",
            "   macro avg       1.00      1.00      1.00     72969\n",
            "weighted avg       1.00      1.00      1.00     72969\n",
            "\n",
            "Test set report:\n",
            "               precision    recall  f1-score   support\n",
            "\n",
            "           0       0.99      0.99      0.99     11675\n",
            "           1       0.99      1.00      0.99     24265\n",
            "\n",
            "    accuracy                           0.99     35940\n",
            "   macro avg       0.99      0.99      0.99     35940\n",
            "weighted avg       0.99      0.99      0.99     35940\n",
            "\n"
          ],
          "name": "stdout"
        }
      ]
    },
    {
      "cell_type": "code",
      "metadata": {
        "id": "xM3nXyAagb29",
        "colab_type": "code",
        "outputId": "4dde95c5-6e74-4210-cc89-c7d63fae4b44",
        "colab": {
          "base_uri": "https://localhost:8080/",
          "height": 51
        }
      },
      "source": [
        "confusion_matrix(y_test, y_test_pred)"
      ],
      "execution_count": 0,
      "outputs": [
        {
          "output_type": "execute_result",
          "data": {
            "text/plain": [
              "array([[11514,   161],\n",
              "       [   93, 24172]])"
            ]
          },
          "metadata": {
            "tags": []
          },
          "execution_count": 37
        }
      ]
    },
    {
      "cell_type": "markdown",
      "metadata": {
        "id": "f0gqEC-chdSv",
        "colab_type": "text"
      },
      "source": [
        "**15 most important features** according to our random forest model alongwith their percentages are as follows:"
      ]
    },
    {
      "cell_type": "code",
      "metadata": {
        "id": "U0bnUEENghkD",
        "colab_type": "code",
        "outputId": "47cce37d-db70-4f09-aa89-a3761e726bf6",
        "colab": {
          "base_uri": "https://localhost:8080/",
          "height": 272
        }
      },
      "source": [
        "feature_importances = zip(list(X_train), best_rf.feature_importances_*100)\n",
        "feature_importances_sorted = sorted(feature_importances, key=lambda x: x[1], reverse=True)\n",
        "for feature in feature_importances_sorted[:15]:\n",
        "    print(feature)"
      ],
      "execution_count": 0,
      "outputs": [
        {
          "output_type": "stream",
          "text": [
            "('label_proba_1', 38.22204303617866)\n",
            "('label_proba_0', 37.479463340831124)\n",
            "('len deep url', 11.93243819523408)\n",
            "('len of domain', 3.8430349893701)\n",
            "('suffix_co.uk', 1.3278298714824788)\n",
            "('suffix_com', 1.3138298906282377)\n",
            "('suffix_net', 1.0667911267259529)\n",
            "('suffix_vn', 0.541653935742985)\n",
            "('suffix_info', 0.5059103352679813)\n",
            "('suffix_jp', 0.49035731635762475)\n",
            "('suffix_cc', 0.31053744732707816)\n",
            "('suffix_tv', 0.29229789412264434)\n",
            "('suffix_ua', 0.261701341904223)\n",
            "('suffix_ac.uk', 0.24519333524004708)\n",
            "('suffix_nl', 0.23338296465245364)\n"
          ],
          "name": "stdout"
        }
      ]
    },
    {
      "cell_type": "markdown",
      "metadata": {
        "id": "1i7nAEPgtQ7v",
        "colab_type": "text"
      },
      "source": [
        "# <font color='red'> **Method 3: SVM using RBF kernel** \n"
      ]
    },
    {
      "cell_type": "code",
      "metadata": {
        "id": "2V6UCzJEieQM",
        "colab_type": "code",
        "colab": {}
      },
      "source": [
        "def get_best_model_svm(X_train, y_train, X_valid, y_valid):\n",
        "  np.random.seed(42)\n",
        "  Cs = [10**i for i in range(-1,4)]\n",
        "  gammas = [10**i for i in range(-3,2)]\n",
        "  best_score = 0 \n",
        "  best_estimator, best_params = None, []\n",
        "  for C in Cs: \n",
        "      for gamma in gammas:\n",
        "        rbf = svm.SVC(C=C, gamma=gamma, kernel='rbf', random_state=42)\n",
        "        rbf.fit(X_train, y_train)\n",
        "        y_pred = rbf.predict(X_valid)\n",
        "        score = metrics.accuracy_score(y_valid, y_pred)\n",
        "        if score>best_score: \n",
        "            best_score = score\n",
        "            best_estimator = rbf\n",
        "            best_params = [C, gamma]\n",
        "  return best_estimator, best_params, best_score"
      ],
      "execution_count": 0,
      "outputs": []
    },
    {
      "cell_type": "markdown",
      "metadata": {
        "id": "vkCoFjiqyb5x",
        "colab_type": "text"
      },
      "source": [
        "It takes $\\approx$ 10 mins per model configuration to run.\n",
        "\n",
        "Avoid running the below cells and load the best model which is saved"
      ]
    },
    {
      "cell_type": "code",
      "metadata": {
        "id": "vR6DPrzNxJPc",
        "colab_type": "code",
        "colab": {}
      },
      "source": [
        "# best_svm, best_params_svm, best_score_svm = get_best_model_svm(X_train, y_train, X_valid, y_valid)\n",
        "# best_svm.fit(X_train_valid, y_train_valid) # fit the best model on the whole training set"
      ],
      "execution_count": 0,
      "outputs": []
    },
    {
      "cell_type": "code",
      "metadata": {
        "id": "BDCPhaSdxK80",
        "colab_type": "code",
        "colab": {}
      },
      "source": [
        "# # this cell pickles our generated model\n",
        "# svm_model = {'best_svm':best_svm,'best_params_svm':best_params_svm,'best_score_svm':best_score_svm}\n",
        "# f = open('svm_model.txt','wb')\n",
        "# pickle.dump(svm_model,f)\n",
        "# f.close()"
      ],
      "execution_count": 0,
      "outputs": []
    },
    {
      "cell_type": "code",
      "metadata": {
        "id": "lEPi772fyXj0",
        "colab_type": "code",
        "colab": {}
      },
      "source": [
        "# this cell loads our pickled model\n",
        "f = open('svm_model.txt','rb')\n",
        "svm_model = pickle.load(f)\n",
        "best_svm = svm_model['best_svm']\n",
        "best_params_svm = svm_model['best_params_svm']\n",
        "best_score_svm = svm_model['best_score_svm']\n",
        "f.close()"
      ],
      "execution_count": 0,
      "outputs": []
    },
    {
      "cell_type": "code",
      "metadata": {
        "id": "FLZhwEaUkwhb",
        "colab_type": "code",
        "outputId": "560447b5-9850-48bd-c2b3-1707dd8ab89f",
        "colab": {
          "base_uri": "https://localhost:8080/",
          "height": 476
        }
      },
      "source": [
        "print(f\"Best parameters:\\n\\tC: {best_params_svm[0]}\\n\\tgamma: {best_params_svm[1]}\")\n",
        "print(f\"\\nBest validation accuracy: {best_score_svm*100} %\\n\")\n",
        "\n",
        "y_train_valid_pred = best_svm.predict(X_train_valid)\n",
        "y_test_pred = best_svm.predict(X_test)\n",
        "print(f'Test set accuracy: {metrics.accuracy_score(y_test, y_test_pred)*100} %')\n",
        "print('Train set report:\\n {}'.format(metrics.classification_report(y_train_valid, y_train_valid_pred)))\n",
        "print('Test set report:\\n {}'.format(metrics.classification_report(y_test, y_test_pred)))"
      ],
      "execution_count": 0,
      "outputs": [
        {
          "output_type": "stream",
          "text": [
            "Best parameters:\n",
            "\tC: 100\n",
            "\tgamma: 0.01\n",
            "\n",
            "Best validation accuracy: 99.38330820885295 %\n",
            "\n",
            "Test set accuracy: 96.46911519198665 %\n",
            "Train set report:\n",
            "               precision    recall  f1-score   support\n",
            "\n",
            "           0       0.97      0.95      0.96     23703\n",
            "           1       0.97      0.99      0.98     49266\n",
            "\n",
            "    accuracy                           0.97     72969\n",
            "   macro avg       0.97      0.97      0.97     72969\n",
            "weighted avg       0.97      0.97      0.97     72969\n",
            "\n",
            "Test set report:\n",
            "               precision    recall  f1-score   support\n",
            "\n",
            "           0       0.96      0.93      0.94     11675\n",
            "           1       0.97      0.98      0.97     24265\n",
            "\n",
            "    accuracy                           0.96     35940\n",
            "   macro avg       0.96      0.96      0.96     35940\n",
            "weighted avg       0.96      0.96      0.96     35940\n",
            "\n"
          ],
          "name": "stdout"
        }
      ]
    },
    {
      "cell_type": "code",
      "metadata": {
        "id": "T6NzMqgBtLql",
        "colab_type": "code",
        "outputId": "ff1d5fe8-775c-4785-a74b-a60ea7039ed8",
        "colab": {
          "base_uri": "https://localhost:8080/",
          "height": 51
        }
      },
      "source": [
        "confusion_matrix(y_test, y_test_pred)"
      ],
      "execution_count": 0,
      "outputs": [
        {
          "output_type": "execute_result",
          "data": {
            "text/plain": [
              "array([[10877,   798],\n",
              "       [  471, 23794]])"
            ]
          },
          "metadata": {
            "tags": []
          },
          "execution_count": 44
        }
      ]
    },
    {
      "cell_type": "markdown",
      "metadata": {
        "id": "qU4oLvv9Vcpi",
        "colab_type": "text"
      },
      "source": [
        "# <font color='red'> **Method 4: Neural Network**"
      ]
    },
    {
      "cell_type": "code",
      "metadata": {
        "id": "9ZRVvWVbWBIr",
        "colab_type": "code",
        "colab": {}
      },
      "source": [
        "import torch\n",
        "from torch.utils.data import TensorDataset,DataLoader\n",
        "\n",
        "xtrain = torch.tensor(X_train_valid.to_numpy()).float()\n",
        "ytrain = torch.tensor(y_train_valid.to_numpy())\n",
        "xtest = torch.tensor(X_test.to_numpy()).float()\n",
        "ytest = torch.tensor(y_test.to_numpy())\n",
        "\n",
        "train_loader = DataLoader(TensorDataset(xtrain, ytrain), batch_size= 1000)"
      ],
      "execution_count": 0,
      "outputs": []
    },
    {
      "cell_type": "code",
      "metadata": {
        "id": "AOUIygT1XFni",
        "colab_type": "code",
        "colab": {}
      },
      "source": [
        "from torch import nn, optim\n",
        "import torch.nn.functional as F\n",
        "\n",
        "hidden_1 = 250\n",
        "hidden_2 = 200\n",
        "hidden_3 = 150\n",
        "layers = [\n",
        "          nn.Linear(xtrain.shape[1], hidden_1), nn.ReLU(), nn.BatchNorm1d(hidden_1),\n",
        "          nn.Linear(hidden_1, hidden_2), nn.ReLU(), nn.BatchNorm1d(hidden_2),\n",
        "          nn.Linear(hidden_2, hidden_3), nn.ReLU(), nn.BatchNorm1d(hidden_3),\n",
        "          nn.Linear(hidden_3, hidden_3), nn.ReLU(), nn.BatchNorm1d(hidden_3),\n",
        "          nn.Linear(hidden_3, 2)\n",
        "]\n",
        "model = nn.Sequential(*layers)\n",
        "learning_rate = 1e-3\n",
        "optimizer = optim.SGD(model.parameters(), lr=learning_rate, momentum=0.9 ,nesterov=True)"
      ],
      "execution_count": 0,
      "outputs": []
    },
    {
      "cell_type": "code",
      "metadata": {
        "id": "JE_PZ_i8czqW",
        "colab_type": "code",
        "outputId": "0f54d9b9-02d5-4d17-a685-d2a2b6dabda5",
        "colab": {
          "base_uri": "https://localhost:8080/",
          "height": 527
        }
      },
      "source": [
        "def get_num_correct(ypred, ytrue):\n",
        "    preds = ypred.argmax(axis=1)\n",
        "    return (preds == ytrue).sum()\n",
        "\n",
        "n_epochs = 50\n",
        "\n",
        "for epoch in range(n_epochs):\n",
        "    num_correct, num_samples = 0, 0\n",
        "    for xbatch, ybatch in train_loader:\n",
        "        optimizer.zero_grad()\n",
        "        y_pred = model(xbatch)\n",
        "        loss = F.cross_entropy(y_pred,ybatch)\n",
        "        loss.backward()\n",
        "        optimizer.step()\n",
        "        num_correct += get_num_correct(y_pred,ybatch)\n",
        "        num_samples += xbatch.size(0)\n",
        "\n",
        "    if epoch%5 == 0:\n",
        "        acc = float(num_correct) / num_samples\n",
        "        print(f\"Epoch: {epoch}\")\n",
        "        print(\"\\tTraining accuracy: {:.4f} %\".format(acc*100))\n",
        "        with torch.no_grad():\n",
        "            preds = model(xtest)\n",
        "            acc = float(get_num_correct(preds,ytest))/preds.size(0)\n",
        "            print(\"\\tTest accuracy: {:.4f} %\".format(acc*100))\n"
      ],
      "execution_count": 0,
      "outputs": [
        {
          "output_type": "stream",
          "text": [
            "Epoch: 0\n",
            "\tTraining accuracy: 90.6303 %\n",
            "\tTest accuracy: 98.0774 %\n",
            "Epoch: 5\n",
            "\tTraining accuracy: 98.7200 %\n",
            "\tTest accuracy: 98.1803 %\n",
            "Epoch: 10\n",
            "\tTraining accuracy: 98.9681 %\n",
            "\tTest accuracy: 98.5364 %\n",
            "Epoch: 15\n",
            "\tTraining accuracy: 99.2161 %\n",
            "\tTest accuracy: 98.2387 %\n",
            "Epoch: 20\n",
            "\tTraining accuracy: 99.2709 %\n",
            "\tTest accuracy: 98.4474 %\n",
            "Epoch: 25\n",
            "\tTraining accuracy: 99.3134 %\n",
            "\tTest accuracy: 98.5170 %\n",
            "Epoch: 30\n",
            "\tTraining accuracy: 99.3244 %\n",
            "\tTest accuracy: 98.5337 %\n",
            "Epoch: 35\n",
            "\tTraining accuracy: 99.3408 %\n",
            "\tTest accuracy: 98.4975 %\n",
            "Epoch: 40\n",
            "\tTraining accuracy: 99.3655 %\n",
            "\tTest accuracy: 98.5364 %\n",
            "Epoch: 45\n",
            "\tTraining accuracy: 99.3778 %\n",
            "\tTest accuracy: 98.5615 %\n"
          ],
          "name": "stdout"
        }
      ]
    },
    {
      "cell_type": "code",
      "metadata": {
        "id": "cfUd3GG4Kl9p",
        "colab_type": "code",
        "outputId": "51d0ec03-7cc1-4fe4-ab6e-b96847532b2d",
        "colab": {
          "base_uri": "https://localhost:8080/",
          "height": 357
        }
      },
      "source": [
        "with torch.no_grad():\n",
        "    y_train_pred = model(xtrain).squeeze().numpy().argmax(axis=1)\n",
        "    y_test_pred = model(xtest).squeeze().numpy().argmax(axis=1)\n",
        "print('Train set report:\\n {}'.format(metrics.classification_report(ytrain, y_train_pred)))\n",
        "print('Test set report:\\n {}'.format(metrics.classification_report(ytest, y_test_pred)))"
      ],
      "execution_count": 0,
      "outputs": [
        {
          "output_type": "stream",
          "text": [
            "Train set report:\n",
            "               precision    recall  f1-score   support\n",
            "\n",
            "           0       0.99      0.98      0.99     23703\n",
            "           1       0.99      1.00      0.99     49266\n",
            "\n",
            "    accuracy                           0.99     72969\n",
            "   macro avg       0.99      0.99      0.99     72969\n",
            "weighted avg       0.99      0.99      0.99     72969\n",
            "\n",
            "Test set report:\n",
            "               precision    recall  f1-score   support\n",
            "\n",
            "           0       0.98      0.97      0.98     11675\n",
            "           1       0.99      0.99      0.99     24265\n",
            "\n",
            "    accuracy                           0.99     35940\n",
            "   macro avg       0.98      0.98      0.98     35940\n",
            "weighted avg       0.99      0.99      0.99     35940\n",
            "\n"
          ],
          "name": "stdout"
        }
      ]
    },
    {
      "cell_type": "markdown",
      "metadata": {
        "id": "sKpHKoNTofkp",
        "colab_type": "text"
      },
      "source": [
        "## <font color='red'>  **Random Forest without Naive bayes classifier as attributes**\n",
        "\n",
        "Here we take the best classifier from the above ones and don't consider the probabilites predicted by Naive bayes classifier as attributes. "
      ]
    },
    {
      "cell_type": "code",
      "metadata": {
        "id": "iQYnL2SKo_Yc",
        "colab_type": "code",
        "colab": {}
      },
      "source": [
        "X_train_valid.drop(['label_proba_0','label_proba_1'], axis=1, inplace=True)\n",
        "X_test.drop(['label_proba_0','label_proba_1'], axis=1, inplace=True)"
      ],
      "execution_count": 0,
      "outputs": []
    },
    {
      "cell_type": "code",
      "metadata": {
        "id": "eSGYFr40p69d",
        "colab_type": "code",
        "outputId": "3032dce8-7de0-4a5e-ab8c-d7fdae08d244",
        "colab": {
          "base_uri": "https://localhost:8080/",
          "height": 270
        }
      },
      "source": [
        "X_test.head()"
      ],
      "execution_count": 0,
      "outputs": [
        {
          "output_type": "execute_result",
          "data": {
            "text/html": [
              "<div>\n",
              "<style scoped>\n",
              "    .dataframe tbody tr th:only-of-type {\n",
              "        vertical-align: middle;\n",
              "    }\n",
              "\n",
              "    .dataframe tbody tr th {\n",
              "        vertical-align: top;\n",
              "    }\n",
              "\n",
              "    .dataframe thead th {\n",
              "        text-align: right;\n",
              "    }\n",
              "</style>\n",
              "<table border=\"1\" class=\"dataframe\">\n",
              "  <thead>\n",
              "    <tr style=\"text-align: right;\">\n",
              "      <th></th>\n",
              "      <th>len deep url</th>\n",
              "      <th>len of domain</th>\n",
              "      <th>suffix_</th>\n",
              "      <th>suffix_ab.ca</th>\n",
              "      <th>suffix_ac</th>\n",
              "      <th>suffix_ac.cr</th>\n",
              "      <th>suffix_ac.id</th>\n",
              "      <th>suffix_ac.in</th>\n",
              "      <th>suffix_ac.jp</th>\n",
              "      <th>suffix_ac.ke</th>\n",
              "      <th>suffix_ac.th</th>\n",
              "      <th>suffix_ac.uk</th>\n",
              "      <th>suffix_ad</th>\n",
              "      <th>suffix_adm.br</th>\n",
              "      <th>suffix_adv.br</th>\n",
              "      <th>suffix_ae</th>\n",
              "      <th>suffix_af</th>\n",
              "      <th>suffix_art.br</th>\n",
              "      <th>suffix_asia</th>\n",
              "      <th>suffix_asn.au</th>\n",
              "      <th>suffix_at</th>\n",
              "      <th>suffix_az</th>\n",
              "      <th>suffix_be</th>\n",
              "      <th>suffix_bg</th>\n",
              "      <th>suffix_biz</th>\n",
              "      <th>suffix_biz.tr</th>\n",
              "      <th>suffix_bn.it</th>\n",
              "      <th>suffix_bs.it</th>\n",
              "      <th>suffix_by</th>\n",
              "      <th>suffix_ca</th>\n",
              "      <th>suffix_cat</th>\n",
              "      <th>suffix_cc</th>\n",
              "      <th>suffix_cf</th>\n",
              "      <th>suffix_ch</th>\n",
              "      <th>suffix_cl</th>\n",
              "      <th>suffix_club</th>\n",
              "      <th>suffix_cn</th>\n",
              "      <th>suffix_co</th>\n",
              "      <th>suffix_co.id</th>\n",
              "      <th>suffix_co.il</th>\n",
              "      <th>...</th>\n",
              "      <th>suffix_pl</th>\n",
              "      <th>suffix_pn</th>\n",
              "      <th>suffix_pro</th>\n",
              "      <th>suffix_ps</th>\n",
              "      <th>suffix_pt</th>\n",
              "      <th>suffix_ro</th>\n",
              "      <th>suffix_rs</th>\n",
              "      <th>suffix_ru</th>\n",
              "      <th>suffix_rw</th>\n",
              "      <th>suffix_sa</th>\n",
              "      <th>suffix_se</th>\n",
              "      <th>suffix_sg</th>\n",
              "      <th>suffix_sh.cn</th>\n",
              "      <th>suffix_si</th>\n",
              "      <th>suffix_sk</th>\n",
              "      <th>suffix_so</th>\n",
              "      <th>suffix_space</th>\n",
              "      <th>suffix_su</th>\n",
              "      <th>suffix_sx</th>\n",
              "      <th>suffix_tf</th>\n",
              "      <th>suffix_tj</th>\n",
              "      <th>suffix_tk</th>\n",
              "      <th>suffix_tn</th>\n",
              "      <th>suffix_to</th>\n",
              "      <th>suffix_travel.pl</th>\n",
              "      <th>suffix_tv</th>\n",
              "      <th>suffix_ua</th>\n",
              "      <th>suffix_university</th>\n",
              "      <th>suffix_us</th>\n",
              "      <th>suffix_uz</th>\n",
              "      <th>suffix_vg</th>\n",
              "      <th>suffix_vic.edu.au</th>\n",
              "      <th>suffix_vn</th>\n",
              "      <th>suffix_vn.ua</th>\n",
              "      <th>suffix_vu</th>\n",
              "      <th>suffix_web.id</th>\n",
              "      <th>suffix_ws</th>\n",
              "      <th>suffix_xn--p1ai</th>\n",
              "      <th>suffix_xyz</th>\n",
              "      <th>suffix_zj.cn</th>\n",
              "    </tr>\n",
              "  </thead>\n",
              "  <tbody>\n",
              "    <tr>\n",
              "      <th>47130</th>\n",
              "      <td>0.898187</td>\n",
              "      <td>-0.962250</td>\n",
              "      <td>0.0</td>\n",
              "      <td>0.0</td>\n",
              "      <td>0.0</td>\n",
              "      <td>0.0</td>\n",
              "      <td>0.0</td>\n",
              "      <td>0.0</td>\n",
              "      <td>0.0</td>\n",
              "      <td>0.0</td>\n",
              "      <td>0.0</td>\n",
              "      <td>0.0</td>\n",
              "      <td>0.0</td>\n",
              "      <td>0.0</td>\n",
              "      <td>0.0</td>\n",
              "      <td>0.0</td>\n",
              "      <td>0.0</td>\n",
              "      <td>0.0</td>\n",
              "      <td>0.0</td>\n",
              "      <td>0.0</td>\n",
              "      <td>0.0</td>\n",
              "      <td>0.0</td>\n",
              "      <td>0.0</td>\n",
              "      <td>0.0</td>\n",
              "      <td>0.0</td>\n",
              "      <td>0.0</td>\n",
              "      <td>0.0</td>\n",
              "      <td>0.0</td>\n",
              "      <td>0.0</td>\n",
              "      <td>0.0</td>\n",
              "      <td>0.0</td>\n",
              "      <td>0.0</td>\n",
              "      <td>0.0</td>\n",
              "      <td>0.0</td>\n",
              "      <td>0.0</td>\n",
              "      <td>0.0</td>\n",
              "      <td>0.0</td>\n",
              "      <td>0.0</td>\n",
              "      <td>0.0</td>\n",
              "      <td>0.0</td>\n",
              "      <td>...</td>\n",
              "      <td>0.0</td>\n",
              "      <td>0.0</td>\n",
              "      <td>0.0</td>\n",
              "      <td>0.0</td>\n",
              "      <td>0.0</td>\n",
              "      <td>0.0</td>\n",
              "      <td>0.0</td>\n",
              "      <td>0.0</td>\n",
              "      <td>0.0</td>\n",
              "      <td>0.0</td>\n",
              "      <td>0.0</td>\n",
              "      <td>0.0</td>\n",
              "      <td>0.0</td>\n",
              "      <td>0.0</td>\n",
              "      <td>0.0</td>\n",
              "      <td>0.0</td>\n",
              "      <td>0.0</td>\n",
              "      <td>0.0</td>\n",
              "      <td>0.0</td>\n",
              "      <td>0.0</td>\n",
              "      <td>0.0</td>\n",
              "      <td>0.0</td>\n",
              "      <td>0.0</td>\n",
              "      <td>0.0</td>\n",
              "      <td>0.0</td>\n",
              "      <td>0.0</td>\n",
              "      <td>0.0</td>\n",
              "      <td>0.0</td>\n",
              "      <td>0.0</td>\n",
              "      <td>0.0</td>\n",
              "      <td>0.0</td>\n",
              "      <td>0.0</td>\n",
              "      <td>0.0</td>\n",
              "      <td>0.0</td>\n",
              "      <td>0.0</td>\n",
              "      <td>0.0</td>\n",
              "      <td>0.0</td>\n",
              "      <td>0.0</td>\n",
              "      <td>0.0</td>\n",
              "      <td>0.0</td>\n",
              "    </tr>\n",
              "    <tr>\n",
              "      <th>17786</th>\n",
              "      <td>-0.538912</td>\n",
              "      <td>-2.501851</td>\n",
              "      <td>0.0</td>\n",
              "      <td>0.0</td>\n",
              "      <td>0.0</td>\n",
              "      <td>0.0</td>\n",
              "      <td>0.0</td>\n",
              "      <td>0.0</td>\n",
              "      <td>0.0</td>\n",
              "      <td>0.0</td>\n",
              "      <td>0.0</td>\n",
              "      <td>0.0</td>\n",
              "      <td>0.0</td>\n",
              "      <td>0.0</td>\n",
              "      <td>0.0</td>\n",
              "      <td>0.0</td>\n",
              "      <td>0.0</td>\n",
              "      <td>0.0</td>\n",
              "      <td>0.0</td>\n",
              "      <td>0.0</td>\n",
              "      <td>0.0</td>\n",
              "      <td>0.0</td>\n",
              "      <td>0.0</td>\n",
              "      <td>0.0</td>\n",
              "      <td>0.0</td>\n",
              "      <td>0.0</td>\n",
              "      <td>0.0</td>\n",
              "      <td>0.0</td>\n",
              "      <td>0.0</td>\n",
              "      <td>0.0</td>\n",
              "      <td>0.0</td>\n",
              "      <td>0.0</td>\n",
              "      <td>0.0</td>\n",
              "      <td>0.0</td>\n",
              "      <td>0.0</td>\n",
              "      <td>0.0</td>\n",
              "      <td>0.0</td>\n",
              "      <td>0.0</td>\n",
              "      <td>0.0</td>\n",
              "      <td>0.0</td>\n",
              "      <td>...</td>\n",
              "      <td>0.0</td>\n",
              "      <td>0.0</td>\n",
              "      <td>0.0</td>\n",
              "      <td>0.0</td>\n",
              "      <td>0.0</td>\n",
              "      <td>0.0</td>\n",
              "      <td>0.0</td>\n",
              "      <td>0.0</td>\n",
              "      <td>0.0</td>\n",
              "      <td>0.0</td>\n",
              "      <td>0.0</td>\n",
              "      <td>0.0</td>\n",
              "      <td>0.0</td>\n",
              "      <td>0.0</td>\n",
              "      <td>0.0</td>\n",
              "      <td>0.0</td>\n",
              "      <td>0.0</td>\n",
              "      <td>0.0</td>\n",
              "      <td>0.0</td>\n",
              "      <td>0.0</td>\n",
              "      <td>0.0</td>\n",
              "      <td>0.0</td>\n",
              "      <td>0.0</td>\n",
              "      <td>0.0</td>\n",
              "      <td>0.0</td>\n",
              "      <td>0.0</td>\n",
              "      <td>0.0</td>\n",
              "      <td>0.0</td>\n",
              "      <td>0.0</td>\n",
              "      <td>0.0</td>\n",
              "      <td>0.0</td>\n",
              "      <td>0.0</td>\n",
              "      <td>0.0</td>\n",
              "      <td>0.0</td>\n",
              "      <td>0.0</td>\n",
              "      <td>0.0</td>\n",
              "      <td>0.0</td>\n",
              "      <td>0.0</td>\n",
              "      <td>0.0</td>\n",
              "      <td>0.0</td>\n",
              "    </tr>\n",
              "    <tr>\n",
              "      <th>29868</th>\n",
              "      <td>-1.030551</td>\n",
              "      <td>-3.271652</td>\n",
              "      <td>0.0</td>\n",
              "      <td>0.0</td>\n",
              "      <td>0.0</td>\n",
              "      <td>0.0</td>\n",
              "      <td>0.0</td>\n",
              "      <td>0.0</td>\n",
              "      <td>0.0</td>\n",
              "      <td>0.0</td>\n",
              "      <td>0.0</td>\n",
              "      <td>0.0</td>\n",
              "      <td>0.0</td>\n",
              "      <td>0.0</td>\n",
              "      <td>0.0</td>\n",
              "      <td>0.0</td>\n",
              "      <td>0.0</td>\n",
              "      <td>0.0</td>\n",
              "      <td>0.0</td>\n",
              "      <td>0.0</td>\n",
              "      <td>0.0</td>\n",
              "      <td>0.0</td>\n",
              "      <td>0.0</td>\n",
              "      <td>0.0</td>\n",
              "      <td>0.0</td>\n",
              "      <td>0.0</td>\n",
              "      <td>0.0</td>\n",
              "      <td>0.0</td>\n",
              "      <td>0.0</td>\n",
              "      <td>0.0</td>\n",
              "      <td>0.0</td>\n",
              "      <td>0.0</td>\n",
              "      <td>0.0</td>\n",
              "      <td>0.0</td>\n",
              "      <td>0.0</td>\n",
              "      <td>0.0</td>\n",
              "      <td>0.0</td>\n",
              "      <td>0.0</td>\n",
              "      <td>0.0</td>\n",
              "      <td>0.0</td>\n",
              "      <td>...</td>\n",
              "      <td>0.0</td>\n",
              "      <td>0.0</td>\n",
              "      <td>0.0</td>\n",
              "      <td>0.0</td>\n",
              "      <td>0.0</td>\n",
              "      <td>0.0</td>\n",
              "      <td>0.0</td>\n",
              "      <td>0.0</td>\n",
              "      <td>0.0</td>\n",
              "      <td>0.0</td>\n",
              "      <td>0.0</td>\n",
              "      <td>0.0</td>\n",
              "      <td>0.0</td>\n",
              "      <td>0.0</td>\n",
              "      <td>0.0</td>\n",
              "      <td>0.0</td>\n",
              "      <td>0.0</td>\n",
              "      <td>0.0</td>\n",
              "      <td>0.0</td>\n",
              "      <td>0.0</td>\n",
              "      <td>0.0</td>\n",
              "      <td>0.0</td>\n",
              "      <td>0.0</td>\n",
              "      <td>0.0</td>\n",
              "      <td>0.0</td>\n",
              "      <td>0.0</td>\n",
              "      <td>0.0</td>\n",
              "      <td>0.0</td>\n",
              "      <td>0.0</td>\n",
              "      <td>0.0</td>\n",
              "      <td>0.0</td>\n",
              "      <td>0.0</td>\n",
              "      <td>0.0</td>\n",
              "      <td>0.0</td>\n",
              "      <td>0.0</td>\n",
              "      <td>0.0</td>\n",
              "      <td>0.0</td>\n",
              "      <td>0.0</td>\n",
              "      <td>0.0</td>\n",
              "      <td>0.0</td>\n",
              "    </tr>\n",
              "    <tr>\n",
              "      <th>101020</th>\n",
              "      <td>0.746913</td>\n",
              "      <td>-3.271652</td>\n",
              "      <td>0.0</td>\n",
              "      <td>0.0</td>\n",
              "      <td>0.0</td>\n",
              "      <td>0.0</td>\n",
              "      <td>0.0</td>\n",
              "      <td>0.0</td>\n",
              "      <td>0.0</td>\n",
              "      <td>0.0</td>\n",
              "      <td>0.0</td>\n",
              "      <td>0.0</td>\n",
              "      <td>0.0</td>\n",
              "      <td>0.0</td>\n",
              "      <td>0.0</td>\n",
              "      <td>0.0</td>\n",
              "      <td>0.0</td>\n",
              "      <td>0.0</td>\n",
              "      <td>0.0</td>\n",
              "      <td>0.0</td>\n",
              "      <td>0.0</td>\n",
              "      <td>0.0</td>\n",
              "      <td>0.0</td>\n",
              "      <td>0.0</td>\n",
              "      <td>0.0</td>\n",
              "      <td>0.0</td>\n",
              "      <td>0.0</td>\n",
              "      <td>0.0</td>\n",
              "      <td>0.0</td>\n",
              "      <td>0.0</td>\n",
              "      <td>0.0</td>\n",
              "      <td>0.0</td>\n",
              "      <td>0.0</td>\n",
              "      <td>0.0</td>\n",
              "      <td>0.0</td>\n",
              "      <td>0.0</td>\n",
              "      <td>0.0</td>\n",
              "      <td>0.0</td>\n",
              "      <td>0.0</td>\n",
              "      <td>0.0</td>\n",
              "      <td>...</td>\n",
              "      <td>0.0</td>\n",
              "      <td>0.0</td>\n",
              "      <td>0.0</td>\n",
              "      <td>0.0</td>\n",
              "      <td>0.0</td>\n",
              "      <td>0.0</td>\n",
              "      <td>0.0</td>\n",
              "      <td>0.0</td>\n",
              "      <td>0.0</td>\n",
              "      <td>0.0</td>\n",
              "      <td>0.0</td>\n",
              "      <td>0.0</td>\n",
              "      <td>0.0</td>\n",
              "      <td>0.0</td>\n",
              "      <td>0.0</td>\n",
              "      <td>0.0</td>\n",
              "      <td>0.0</td>\n",
              "      <td>0.0</td>\n",
              "      <td>0.0</td>\n",
              "      <td>0.0</td>\n",
              "      <td>0.0</td>\n",
              "      <td>0.0</td>\n",
              "      <td>0.0</td>\n",
              "      <td>0.0</td>\n",
              "      <td>0.0</td>\n",
              "      <td>0.0</td>\n",
              "      <td>0.0</td>\n",
              "      <td>0.0</td>\n",
              "      <td>0.0</td>\n",
              "      <td>0.0</td>\n",
              "      <td>0.0</td>\n",
              "      <td>0.0</td>\n",
              "      <td>0.0</td>\n",
              "      <td>0.0</td>\n",
              "      <td>0.0</td>\n",
              "      <td>0.0</td>\n",
              "      <td>0.0</td>\n",
              "      <td>0.0</td>\n",
              "      <td>0.0</td>\n",
              "      <td>0.0</td>\n",
              "    </tr>\n",
              "    <tr>\n",
              "      <th>7578</th>\n",
              "      <td>223.000000</td>\n",
              "      <td>13.000000</td>\n",
              "      <td>1.0</td>\n",
              "      <td>0.0</td>\n",
              "      <td>0.0</td>\n",
              "      <td>0.0</td>\n",
              "      <td>0.0</td>\n",
              "      <td>0.0</td>\n",
              "      <td>0.0</td>\n",
              "      <td>0.0</td>\n",
              "      <td>0.0</td>\n",
              "      <td>0.0</td>\n",
              "      <td>0.0</td>\n",
              "      <td>0.0</td>\n",
              "      <td>0.0</td>\n",
              "      <td>0.0</td>\n",
              "      <td>0.0</td>\n",
              "      <td>0.0</td>\n",
              "      <td>0.0</td>\n",
              "      <td>0.0</td>\n",
              "      <td>0.0</td>\n",
              "      <td>0.0</td>\n",
              "      <td>0.0</td>\n",
              "      <td>0.0</td>\n",
              "      <td>0.0</td>\n",
              "      <td>0.0</td>\n",
              "      <td>0.0</td>\n",
              "      <td>0.0</td>\n",
              "      <td>0.0</td>\n",
              "      <td>0.0</td>\n",
              "      <td>0.0</td>\n",
              "      <td>0.0</td>\n",
              "      <td>0.0</td>\n",
              "      <td>0.0</td>\n",
              "      <td>0.0</td>\n",
              "      <td>0.0</td>\n",
              "      <td>0.0</td>\n",
              "      <td>0.0</td>\n",
              "      <td>0.0</td>\n",
              "      <td>0.0</td>\n",
              "      <td>...</td>\n",
              "      <td>0.0</td>\n",
              "      <td>0.0</td>\n",
              "      <td>0.0</td>\n",
              "      <td>0.0</td>\n",
              "      <td>0.0</td>\n",
              "      <td>0.0</td>\n",
              "      <td>0.0</td>\n",
              "      <td>0.0</td>\n",
              "      <td>0.0</td>\n",
              "      <td>0.0</td>\n",
              "      <td>0.0</td>\n",
              "      <td>0.0</td>\n",
              "      <td>0.0</td>\n",
              "      <td>0.0</td>\n",
              "      <td>0.0</td>\n",
              "      <td>0.0</td>\n",
              "      <td>0.0</td>\n",
              "      <td>0.0</td>\n",
              "      <td>0.0</td>\n",
              "      <td>0.0</td>\n",
              "      <td>0.0</td>\n",
              "      <td>0.0</td>\n",
              "      <td>0.0</td>\n",
              "      <td>0.0</td>\n",
              "      <td>0.0</td>\n",
              "      <td>0.0</td>\n",
              "      <td>0.0</td>\n",
              "      <td>0.0</td>\n",
              "      <td>0.0</td>\n",
              "      <td>0.0</td>\n",
              "      <td>0.0</td>\n",
              "      <td>0.0</td>\n",
              "      <td>0.0</td>\n",
              "      <td>0.0</td>\n",
              "      <td>0.0</td>\n",
              "      <td>0.0</td>\n",
              "      <td>0.0</td>\n",
              "      <td>0.0</td>\n",
              "      <td>0.0</td>\n",
              "      <td>0.0</td>\n",
              "    </tr>\n",
              "  </tbody>\n",
              "</table>\n",
              "<p>5 rows × 264 columns</p>\n",
              "</div>"
            ],
            "text/plain": [
              "        len deep url  len of domain  ...  suffix_xyz  suffix_zj.cn\n",
              "47130       0.898187      -0.962250  ...         0.0           0.0\n",
              "17786      -0.538912      -2.501851  ...         0.0           0.0\n",
              "29868      -1.030551      -3.271652  ...         0.0           0.0\n",
              "101020      0.746913      -3.271652  ...         0.0           0.0\n",
              "7578      223.000000      13.000000  ...         0.0           0.0\n",
              "\n",
              "[5 rows x 264 columns]"
            ]
          },
          "metadata": {
            "tags": []
          },
          "execution_count": 61
        }
      ]
    },
    {
      "cell_type": "code",
      "metadata": {
        "id": "Wkg79YoEqQ5d",
        "colab_type": "code",
        "colab": {}
      },
      "source": [
        "best_rf, best_params_rf, best_score_rf = get_best_model_rf(X_train, y_train, X_valid, y_valid)"
      ],
      "execution_count": 0,
      "outputs": []
    },
    {
      "cell_type": "code",
      "metadata": {
        "id": "FaGpeSnaqXgA",
        "colab_type": "code",
        "outputId": "ec5fc5f6-e76a-4858-dfc5-8cbafe0db508",
        "colab": {
          "base_uri": "https://localhost:8080/",
          "height": 476
        }
      },
      "source": [
        "print(f\"Best parameters:\\n\\tn_estimators: {best_params_rf[0]}\\n\\tmax_depth: {best_params_rf[1]}\")\n",
        "print(f\"\\nBest validation accuracy: {best_score_rf*100} %\\n\")\n",
        "best_rf.fit(X_train_valid, y_train_valid)\n",
        "\n",
        "y_train_valid_pred = best_rf.predict(X_train_valid)\n",
        "y_test_pred = best_rf.predict(X_test)\n",
        "print(f'Test set accuracy: {metrics.accuracy_score(y_test, y_test_pred)*100} %')\n",
        "print('Train set report:\\n {}'.format(metrics.classification_report(y_train_valid, y_train_valid_pred)))\n",
        "print('Test set report:\\n {}'.format(metrics.classification_report(y_test, y_test_pred)))"
      ],
      "execution_count": 0,
      "outputs": [
        {
          "output_type": "stream",
          "text": [
            "Best parameters:\n",
            "\tn_estimators: 78\n",
            "\tmax_depth: 50\n",
            "\n",
            "Best validation accuracy: 99.71221049746471 %\n",
            "\n",
            "Test set accuracy: 94.39343350027825 %\n",
            "Train set report:\n",
            "               precision    recall  f1-score   support\n",
            "\n",
            "           0       0.90      0.96      0.93     23703\n",
            "           1       0.98      0.95      0.97     49266\n",
            "\n",
            "    accuracy                           0.95     72969\n",
            "   macro avg       0.94      0.96      0.95     72969\n",
            "weighted avg       0.96      0.95      0.95     72969\n",
            "\n",
            "Test set report:\n",
            "               precision    recall  f1-score   support\n",
            "\n",
            "           0       0.89      0.95      0.92     11675\n",
            "           1       0.97      0.94      0.96     24265\n",
            "\n",
            "    accuracy                           0.94     35940\n",
            "   macro avg       0.93      0.94      0.94     35940\n",
            "weighted avg       0.95      0.94      0.94     35940\n",
            "\n"
          ],
          "name": "stdout"
        }
      ]
    }
  ]
}